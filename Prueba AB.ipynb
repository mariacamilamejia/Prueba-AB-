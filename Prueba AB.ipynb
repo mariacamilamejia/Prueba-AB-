{
 "cells": [
  {
   "cell_type": "markdown",
   "metadata": {},
   "source": [
    "Junto con el departamento de marketing has recopilado una lista de hipótesis que pueden ayudar a aumentar los ingresos. \n",
    "\n",
    "priorizar estas hipótesis, lanzar un test A/B y analizar los resultados."
   ]
  },
  {
   "cell_type": "markdown",
   "metadata": {},
   "source": [
    "----"
   ]
  },
  {
   "cell_type": "code",
   "execution_count": 151,
   "metadata": {},
   "outputs": [],
   "source": [
    "import pandas as pd\n",
    "import datetime as dt\n",
    "import numpy as np\n",
    "import matplotlib.pyplot as plt\n",
    "import scipy.stats as stats\n"
   ]
  },
  {
   "cell_type": "code",
   "execution_count": 152,
   "metadata": {},
   "outputs": [],
   "source": [
    "data_tesis=pd.read_csv('/datasets/hypotheses_us.csv',sep=';')\n",
    "data_orders=pd.read_csv('/datasets/orders_us.csv')\n",
    "data_visitor=pd.read_csv('/datasets/visits_us.csv')\n"
   ]
  },
  {
   "cell_type": "code",
   "execution_count": 153,
   "metadata": {},
   "outputs": [
    {
     "name": "stdout",
     "output_type": "stream",
     "text": [
      "<class 'pandas.core.frame.DataFrame'>\n",
      "RangeIndex: 1197 entries, 0 to 1196\n",
      "Data columns (total 5 columns):\n",
      " #   Column         Non-Null Count  Dtype  \n",
      "---  ------         --------------  -----  \n",
      " 0   transactionId  1197 non-null   int64  \n",
      " 1   visitorId      1197 non-null   int64  \n",
      " 2   date           1197 non-null   object \n",
      " 3   revenue        1197 non-null   float64\n",
      " 4   group          1197 non-null   object \n",
      "dtypes: float64(1), int64(2), object(2)\n",
      "memory usage: 46.9+ KB\n",
      "None\n"
     ]
    }
   ],
   "source": [
    "print(data_orders.info())"
   ]
  },
  {
   "cell_type": "code",
   "execution_count": 154,
   "metadata": {},
   "outputs": [
    {
     "name": "stdout",
     "output_type": "stream",
     "text": [
      "                                          Hypothesis  Reach  Impact  \\\n",
      "0  Add two new channels for attracting traffic. T...      3      10   \n",
      "1  Launch your own delivery service. This will sh...      2       5   \n",
      "2  Add product recommendation blocks to the store...      8       3   \n",
      "3  Change the category structure. This will incre...      8       3   \n",
      "4  Change the background color on the main page. ...      3       1   \n",
      "\n",
      "   Confidence  Effort  \n",
      "0           8       6  \n",
      "1           4      10  \n",
      "2           7       3  \n",
      "3           3       8  \n",
      "4           1       1  \n"
     ]
    }
   ],
   "source": [
    "print(data_tesis.head())"
   ]
  },
  {
   "cell_type": "code",
   "execution_count": 155,
   "metadata": {},
   "outputs": [
    {
     "name": "stdout",
     "output_type": "stream",
     "text": [
      "    transactionId   visitorId        date  revenue group\n",
      "0      3667963787  3312258926  2019-08-15     30.4     B\n",
      "1      2804400009  3642806036  2019-08-15     15.2     B\n",
      "2      3797467345  1196621759  2019-08-15    155.1     B\n",
      "3      2282983706  2322279887  2019-08-15     40.5     B\n",
      "4       182168103   935554773  2019-08-15     35.0     B\n",
      "5       398296753  2900797465  2019-08-15     30.6     B\n",
      "6      2626614568    78758296  2019-08-15     20.1     A\n",
      "7      1576988021   295230930  2019-08-15    215.9     A\n",
      "8      1506739906  1882260405  2019-08-15     30.5     B\n",
      "9      3649131742   879864040  2019-08-15     65.7     A\n",
      "10     1919444843   927791387  2019-08-15     70.2     B\n",
      "11     2809384911  3213223594  2019-08-15    115.4     A\n",
      "12     3044797713   728063420  2019-08-15    185.4     B\n",
      "13     3859315276  1565034404  2019-08-15    170.9     A\n",
      "14     2550768810  2742574263  2019-08-15    235.0     B\n",
      "15     1820531107  2973109265  2019-08-15     20.3     B\n",
      "16     1108180333   222718357  2019-08-15     20.2     B\n",
      "17     1822256754  4227830084  2019-08-15    255.7     A\n",
      "18      674584210  3207734412  2019-08-15     20.3     A\n",
      "19     1240630928  1379151787  2019-08-15     20.2     B\n"
     ]
    }
   ],
   "source": [
    "data_orders_A=data_orders.query(\"group=='A'\")\n",
    "data_orders_B=data_orders.query(\"group=='B'\")\n",
    "set_a = set(data_orders_A['visitorId'])\n",
    "set_b =set(data_orders_B['visitorId'])\n",
    "usuarios_duplicados= set_a.intersection(set_b)\n",
    "data_orders=data_orders[~data_orders['visitorId'].isin(usuarios_duplicados)]\n",
    "data_orders=data_orders.reset_index(drop=True)\n",
    "print(data_orders.head(20))\n"
   ]
  },
  {
   "cell_type": "code",
   "execution_count": 156,
   "metadata": {},
   "outputs": [],
   "source": [
    "data_tesis['ICE']=(data_tesis['Impact']*data_tesis['Confidence'])/data_tesis['Effort']"
   ]
  },
  {
   "cell_type": "code",
   "execution_count": 157,
   "metadata": {},
   "outputs": [
    {
     "name": "stdout",
     "output_type": "stream",
     "text": [
      "                                          Hypothesis        ICE\n",
      "8  Launch a promotion that gives users discounts ...  16.200000\n",
      "0  Add two new channels for attracting traffic. T...  13.333333\n",
      "7  Add a subscription form to all the main pages....  11.200000\n",
      "6  Show banners with current offers and sales on ...   8.000000\n",
      "2  Add product recommendation blocks to the store...   7.000000\n",
      "1  Launch your own delivery service. This will sh...   2.000000\n",
      "5  Add a customer review page. This will increase...   1.333333\n",
      "3  Change the category structure. This will incre...   1.125000\n",
      "4  Change the background color on the main page. ...   1.000000\n"
     ]
    }
   ],
   "source": [
    "print(data_tesis[['Hypothesis','ICE']].sort_values(by='ICE',ascending=False))"
   ]
  },
  {
   "cell_type": "markdown",
   "metadata": {},
   "source": [
    "Conclusiones : La Hypothesis que se debe priorizar acorde al Calculo ICE es la de de \"Launch a promotion that gives users discounts\""
   ]
  },
  {
   "cell_type": "code",
   "execution_count": 158,
   "metadata": {},
   "outputs": [],
   "source": [
    "data_tesis['RICE']=(data_tesis['Reach']*data_tesis['Impact']*data_tesis['Confidence'])/data_tesis['Effort']"
   ]
  },
  {
   "cell_type": "code",
   "execution_count": 159,
   "metadata": {},
   "outputs": [
    {
     "name": "stdout",
     "output_type": "stream",
     "text": [
      "                                          Hypothesis   RICE\n",
      "7  Add a subscription form to all the main pages....  112.0\n",
      "2  Add product recommendation blocks to the store...   56.0\n",
      "0  Add two new channels for attracting traffic. T...   40.0\n",
      "6  Show banners with current offers and sales on ...   40.0\n",
      "8  Launch a promotion that gives users discounts ...   16.2\n",
      "3  Change the category structure. This will incre...    9.0\n",
      "1  Launch your own delivery service. This will sh...    4.0\n",
      "5  Add a customer review page. This will increase...    4.0\n",
      "4  Change the background color on the main page. ...    3.0\n"
     ]
    }
   ],
   "source": [
    "print(data_tesis[['Hypothesis','RICE']].sort_values(by='RICE',ascending=False))"
   ]
  },
  {
   "cell_type": "markdown",
   "metadata": {},
   "source": [
    "Conclusiones : La Hypothesis que se debe priorizar acorde al Calculo RICE es la de de \"Add a subscription form to all the main pages\""
   ]
  },
  {
   "cell_type": "code",
   "execution_count": 160,
   "metadata": {},
   "outputs": [
    {
     "name": "stdout",
     "output_type": "stream",
     "text": [
      "                                          Hypothesis   RICE        ICE\n",
      "7  Add a subscription form to all the main pages....  112.0  11.200000\n",
      "2  Add product recommendation blocks to the store...   56.0   7.000000\n",
      "0  Add two new channels for attracting traffic. T...   40.0  13.333333\n",
      "6  Show banners with current offers and sales on ...   40.0   8.000000\n",
      "8  Launch a promotion that gives users discounts ...   16.2  16.200000\n",
      "3  Change the category structure. This will incre...    9.0   1.125000\n",
      "1  Launch your own delivery service. This will sh...    4.0   2.000000\n",
      "5  Add a customer review page. This will increase...    4.0   1.333333\n",
      "4  Change the background color on the main page. ...    3.0   1.000000\n"
     ]
    }
   ],
   "source": [
    "print(data_tesis[['Hypothesis','RICE','ICE']].sort_values(by='RICE',ascending=False))"
   ]
  },
  {
   "cell_type": "markdown",
   "metadata": {},
   "source": [
    "Conclusiones: El comparativo nos muestra como cambia el orden de las diferentes hyphotesis cuando se utilizan las diferentes metodos de priorizacion de hyphotesis "
   ]
  },
  {
   "cell_type": "code",
   "execution_count": 161,
   "metadata": {},
   "outputs": [
    {
     "name": "stdout",
     "output_type": "stream",
     "text": [
      "<class 'pandas.core.frame.DataFrame'>\n",
      "RangeIndex: 1016 entries, 0 to 1015\n",
      "Data columns (total 5 columns):\n",
      " #   Column         Non-Null Count  Dtype  \n",
      "---  ------         --------------  -----  \n",
      " 0   transactionId  1016 non-null   int64  \n",
      " 1   visitorId      1016 non-null   int64  \n",
      " 2   date           1016 non-null   object \n",
      " 3   revenue        1016 non-null   float64\n",
      " 4   group          1016 non-null   object \n",
      "dtypes: float64(1), int64(2), object(2)\n",
      "memory usage: 39.8+ KB\n"
     ]
    }
   ],
   "source": [
    "data_orders.info()"
   ]
  },
  {
   "cell_type": "code",
   "execution_count": 162,
   "metadata": {},
   "outputs": [
    {
     "name": "stdout",
     "output_type": "stream",
     "text": [
      "<class 'pandas.core.frame.DataFrame'>\n",
      "RangeIndex: 62 entries, 0 to 61\n",
      "Data columns (total 3 columns):\n",
      " #   Column  Non-Null Count  Dtype \n",
      "---  ------  --------------  ----- \n",
      " 0   date    62 non-null     object\n",
      " 1   group   62 non-null     object\n",
      " 2   visits  62 non-null     int64 \n",
      "dtypes: int64(1), object(2)\n",
      "memory usage: 1.6+ KB\n"
     ]
    }
   ],
   "source": [
    "data_visitor.info()"
   ]
  },
  {
   "cell_type": "code",
   "execution_count": 163,
   "metadata": {},
   "outputs": [],
   "source": [
    "data_orders['date'] = data_orders['date'].map(lambda x: dt.datetime.strptime(x, '%Y-%m-%d'))\n"
   ]
  },
  {
   "cell_type": "code",
   "execution_count": 164,
   "metadata": {},
   "outputs": [],
   "source": [
    "data_visitor['date'] = data_visitor['date'].map(lambda x: dt.datetime.strptime(x, '%Y-%m-%d'))"
   ]
  },
  {
   "cell_type": "code",
   "execution_count": 165,
   "metadata": {},
   "outputs": [],
   "source": [
    "group_data=data_orders[['date','group']].drop_duplicates()\n",
    "\n",
    "orders_agrega=group_data.apply(lambda x: data_orders[np.logical_and(data_orders['date'] <= x['date'], data_orders['group'] == x['group']\n",
    "        )].agg({'date': 'max',\n",
    "            'group': 'max',\n",
    "            'transactionId': pd.Series.nunique,\n",
    "            'visitorId': pd.Series.nunique,\n",
    "            'revenue': 'sum',}),axis=1,).sort_values(by=['date', 'group'])\n",
    "\n",
    "visitor_agrega=group_data.apply(lambda x: data_visitor[np.logical_and(data_visitor['date'] <= x['date'], data_visitor['group'] == x['group']\n",
    "        )].agg({'date': 'max',\n",
    "            'group': 'max',\n",
    "            'visits': 'sum'}),axis=1,).sort_values(by=['date', 'group'])\n",
    "\n",
    "data_acumulativa=orders_agrega.merge(visitor_agrega,left_on=['date', 'group'], right_on=['date', 'group'])\n",
    "data_acumulativa.columns = ['date', 'group', 'orders', 'buyers', 'revenue', 'visitors']"
   ]
  },
  {
   "cell_type": "code",
   "execution_count": 166,
   "metadata": {},
   "outputs": [
    {
     "data": {
      "text/plain": [
       "<matplotlib.legend.Legend at 0x7f1d857cde80>"
      ]
     },
     "execution_count": 166,
     "metadata": {},
     "output_type": "execute_result"
    },
    {
     "data": {
      "image/png": "[encoded data removed]",
      "text/plain": [
       "<Figure size 640x480 with 1 Axes>"
      ]
     },
     "metadata": {},
     "output_type": "display_data"
    }
   ],
   "source": [
    "Acumulative_RevenueA=data_acumulativa[data_acumulativa['group']=='A'][['date','revenue', 'orders']]\n",
    "Acumulative_RevenueB=data_acumulativa[data_acumulativa['group']=='B'][['date','revenue', 'orders']]\n",
    "plt.plot(Acumulative_RevenueA['date'], Acumulative_RevenueA['revenue'], label='A')\n",
    "plt.plot(Acumulative_RevenueB['date'], Acumulative_RevenueB['revenue'], label='B')\n",
    "plt.legend()\n"
   ]
  },
  {
   "cell_type": "markdown",
   "metadata": {},
   "source": [
    "Conclusiones : en el grafico se logra visualizar que el grupo B tiene unos mejores ingresos  que el grupo A y al final de la prueba como es mas grande la diferencia entre los dos grupos."
   ]
  },
  {
   "cell_type": "code",
   "execution_count": 167,
   "metadata": {},
   "outputs": [
    {
     "data": {
      "text/plain": [
       "<matplotlib.legend.Legend at 0x7f1d8578bbe0>"
      ]
     },
     "execution_count": 167,
     "metadata": {},
     "output_type": "execute_result"
    },
    {
     "data": {
      "image/png": "[encoded data removed]",
      "text/plain": [
       "<Figure size 640x480 with 1 Axes>"
      ]
     },
     "metadata": {},
     "output_type": "display_data"
    }
   ],
   "source": [
    "plt.plot(Acumulative_RevenueA['date'], Acumulative_RevenueA['revenue']/Acumulative_RevenueA['orders'], label='A')\n",
    "plt.plot(Acumulative_RevenueB['date'], Acumulative_RevenueB['revenue']/Acumulative_RevenueB['orders'], label='B')\n",
    "plt.legend()"
   ]
  },
  {
   "cell_type": "markdown",
   "metadata": {},
   "source": [
    "Conclusiones : atraves de este en el grafico se logra visualizar como el grupo B tiene una tendencia creciente en sus ingresos con un pico  hacia la mitad de la prueba , mientras que el grupo A tambien tiene un poco y luego cae un poco hacia mitad de la prueba "
   ]
  },
  {
   "cell_type": "code",
   "execution_count": 168,
   "metadata": {},
   "outputs": [
    {
     "data": {
      "text/plain": [
       "<matplotlib.lines.Line2D at 0x7f1d85b0b6a0>"
      ]
     },
     "execution_count": 168,
     "metadata": {},
     "output_type": "execute_result"
    },
    {
     "data": {
      "image/png": "[encoded data removed]",
      "text/plain": [
       "<Figure size 640x480 with 1 Axes>"
      ]
     },
     "metadata": {},
     "output_type": "display_data"
    }
   ],
   "source": [
    "UnionCumulativeRevenue = Acumulative_RevenueA.merge(Acumulative_RevenueB, left_on='date', right_on='date', how='left', suffixes=['A', 'B'])\n",
    "\n",
    "plt.plot(UnionCumulativeRevenue['date'], (UnionCumulativeRevenue['revenueB']/UnionCumulativeRevenue['ordersB'])/(UnionCumulativeRevenue['revenueA']/UnionCumulativeRevenue['ordersA'])-1)\n",
    "\n",
    "plt.axhline(y=0, color='black', linestyle='--')"
   ]
  },
  {
   "cell_type": "markdown",
   "metadata": {},
   "source": [
    "Conclusiones: En el grafico de logra visualizar como hay grandes diferencias entre las  pruebas en varios puntos la tendencia es creciente "
   ]
  },
  {
   "cell_type": "code",
   "execution_count": 169,
   "metadata": {},
   "outputs": [
    {
     "data": {
      "text/plain": [
       "(18109.0, 18140.0, 0.0, 0.05)"
      ]
     },
     "execution_count": 169,
     "metadata": {},
     "output_type": "execute_result"
    },
    {
     "data": {
      "image/png": "[encoded data removed]",
      "text/plain": [
       "<Figure size 640x480 with 1 Axes>"
      ]
     },
     "metadata": {},
     "output_type": "display_data"
    }
   ],
   "source": [
    "data_acumulativa['conversion'] = data_acumulativa['orders']/data_acumulativa['visitors']\n",
    "\n",
    "data_acumulativaA = data_acumulativa[data_acumulativa['group']=='A']\n",
    "\n",
    "\n",
    "data_acumulativaB = data_acumulativa[data_acumulativa['group']=='B']\n",
    "\n",
    "\n",
    "plt.plot(data_acumulativaA['date'],data_acumulativaA['conversion'], label='A')\n",
    "plt.plot(data_acumulativaB['date'], data_acumulativaB['conversion'], label='B')\n",
    "plt.legend()\n",
    "\n",
    "\n",
    "plt.axis([pd.to_datetime('2019-08-01'), pd.to_datetime('2019-09-01'), 0,0.05])"
   ]
  },
  {
   "cell_type": "markdown",
   "metadata": {},
   "source": [
    "Conclusiones: se logra observar la simetria de las dos pruebas y vemos la tasa de conversion que han tenido picos pero luego se estabilizan los valores para las dos pruebas "
   ]
  },
  {
   "cell_type": "code",
   "execution_count": 170,
   "metadata": {},
   "outputs": [
    {
     "data": {
      "text/plain": [
       "(18109.0, 18140.0, -0.5, 0.5)"
      ]
     },
     "execution_count": 170,
     "metadata": {},
     "output_type": "execute_result"
    },
    {
     "data": {
      "image/png": "[encoded data removed]",
      "text/plain": [
       "<Figure size 640x480 with 1 Axes>"
      ]
     },
     "metadata": {},
     "output_type": "display_data"
    }
   ],
   "source": [
    "UnionCumulativeConversions = data_acumulativaA[['date','conversion']].merge(data_acumulativaB[['date','conversion']], left_on='date', right_on='date', how='left', suffixes=['A', 'B'])\n",
    "\n",
    "plt.plot(UnionCumulativeConversions['date'], UnionCumulativeConversions['conversionB']/UnionCumulativeConversions['conversionA']-1)\n",
    "\n",
    "\n",
    "plt.axhline(y=0, color='black', linestyle='--')\n",
    "plt.axhline(y=-0.1, color='grey', linestyle='--')\n",
    "plt.axis([pd.to_datetime('2019-08-01'), pd.to_datetime('2019-09-01'), -0.5, 0.5])"
   ]
  },
  {
   "cell_type": "markdown",
   "metadata": {},
   "source": [
    "Conclusiones : la grafica muestra que han habido grandes cambios repentinos por los que se deberia verificar si existen compras anomalas"
   ]
  },
  {
   "cell_type": "code",
   "execution_count": 171,
   "metadata": {},
   "outputs": [
    {
     "data": {
      "text/plain": [
       "<matplotlib.collections.PathCollection at 0x7f1d89dc96d0>"
      ]
     },
     "execution_count": 171,
     "metadata": {},
     "output_type": "execute_result"
    },
    {
     "data": {
      "image/png": "[encoded data removed]",
      "text/plain": [
       "<Figure size 640x480 with 1 Axes>"
      ]
     },
     "metadata": {},
     "output_type": "display_data"
    }
   ],
   "source": [
    "values = pd.Series(range(0, len(data_orders['revenue'])))\n",
    "plt.scatter(values, data_orders['revenue'])"
   ]
  },
  {
   "cell_type": "markdown",
   "metadata": {},
   "source": [
    "    Conclusiones: Acorde al grafico podemos concluir que los valores anomalos empiezan desde $2500 a $20000"
   ]
  },
  {
   "cell_type": "code",
   "execution_count": 172,
   "metadata": {},
   "outputs": [
    {
     "name": "stdout",
     "output_type": "stream",
     "text": [
      "[280.8   414.275 830.3  ]\n"
     ]
    }
   ],
   "source": [
    "print(np.percentile(data_orders['revenue'], [90, 95, 99]))"
   ]
  },
  {
   "cell_type": "markdown",
   "metadata": {},
   "source": [
    "Conclusiones: podemos concluir que no mas del 5 % de los pedidos cuesta mas de $415"
   ]
  },
  {
   "cell_type": "code",
   "execution_count": 173,
   "metadata": {},
   "outputs": [],
   "source": [
    "orders_ByUsers = (\n",
    "    data_orders.drop(['group', 'revenue', 'date'], axis=1)\n",
    "    .groupby('visitorId', as_index=False)\n",
    "    .agg({'transactionId': pd.Series.nunique})\n",
    ")\n",
    "\n",
    "orders_ByUsers.columns = ['visitorId', 'orders']"
   ]
  },
  {
   "cell_type": "code",
   "execution_count": 174,
   "metadata": {},
   "outputs": [
    {
     "data": {
      "text/plain": [
       "<matplotlib.collections.PathCollection at 0x7f1d85e8cc40>"
      ]
     },
     "execution_count": 174,
     "metadata": {},
     "output_type": "execute_result"
    },
    {
     "data": {
      "image/png": "[encoded data removed]",
      "text/plain": [
       "<Figure size 640x480 with 1 Axes>"
      ]
     },
     "metadata": {},
     "output_type": "display_data"
    }
   ],
   "source": [
    "values = pd.Series(range(0,len(orders_ByUsers)))\n",
    "\n",
    "plt.scatter(values, orders_ByUsers['orders'])"
   ]
  },
  {
   "cell_type": "markdown",
   "metadata": {},
   "source": [
    "Conclusiones : hay demasiados usuarios con 2 o mas pedidos acorde al grafico"
   ]
  },
  {
   "cell_type": "code",
   "execution_count": 175,
   "metadata": {},
   "outputs": [
    {
     "name": "stdout",
     "output_type": "stream",
     "text": [
      "[1. 1. 2.]\n"
     ]
    }
   ],
   "source": [
    "print(np.percentile(orders_ByUsers['orders'], [90, 95, 99]))"
   ]
  },
  {
   "cell_type": "markdown",
   "metadata": {},
   "source": [
    "Conclusiones: Podemos concluir que nos mas del 1% realizan mas de dos pedidos "
   ]
  },
  {
   "cell_type": "code",
   "execution_count": 176,
   "metadata": {},
   "outputs": [],
   "source": [
    "orders_ByUsersA = data_orders[data_orders['group']=='A'].groupby('visitorId', as_index=False).agg({'transactionId' : pd.Series.nunique})\n",
    "orders_ByUsersA.columns = ['visitorId', 'orders']\n",
    "\n",
    "orders_ByUsersB = data_orders[data_orders['group']=='B'].groupby('visitorId', as_index=False).agg({'transactionId' : pd.Series.nunique})\n",
    "orders_ByUsersB.columns = ['visitorId', 'orders']"
   ]
  },
  {
   "cell_type": "code",
   "execution_count": 177,
   "metadata": {},
   "outputs": [
    {
     "name": "stdout",
     "output_type": "stream",
     "text": [
      "0.011\n",
      "0.160\n"
     ]
    }
   ],
   "source": [
    "muestraA=pd.concat([orders_ByUsersA['orders'],pd.Series(0,index=np.arange(data_visitor[data_visitor['group']=='A']['visits'].sum()-len(orders_ByUsersA['orders'])),name='orders')],axis=0)\n",
    "muestraB=pd.concat([orders_ByUsersB['orders'],pd.Series(0,index=np.arange(data_visitor[data_visitor['group']=='B']['visits'].sum()-len(orders_ByUsersB['orders'])),name='orders')],axis=0)\n",
    "print(\"{0:.3f}\".format(stats.mannwhitneyu(muestraA, muestraB)[1]))\n",
    "print(\"{0:.3f}\".format(muestraB.mean()/muestraA.mean()-1))"
   ]
  },
  {
   "cell_type": "markdown",
   "metadata": {},
   "source": [
    "Conclusiones: Vemos que la primera salida nos da inferior a 0.05% que podria ser motivo de rechazo de la hipotesis , mientras que la segunda salida nos no da una significacia estadistica del 16% acorde a lo conversion entre los dos grupos   "
   ]
  },
  {
   "cell_type": "code",
   "execution_count": 178,
   "metadata": {},
   "outputs": [
    {
     "name": "stdout",
     "output_type": "stream",
     "text": [
      "0.862\n",
      "0.278\n"
     ]
    }
   ],
   "source": [
    "print('{0:.3f}'.format(stats.mannwhitneyu(data_orders[data_orders['group']=='A']['revenue'], data_orders[data_orders['group']=='B']['revenue'])[1]))\n",
    "print('{0:.3f}'.format(data_orders[data_orders['group']=='B']['revenue'].mean()/data_orders[data_orders['group']=='A']['revenue'].mean()-1))"
   ]
  },
  {
   "cell_type": "markdown",
   "metadata": {},
   "source": [
    "Conclusiones: No nos da motivo para rechazar la hipotesis nula  debido a que es mayor a 0.05"
   ]
  },
  {
   "cell_type": "code",
   "execution_count": 179,
   "metadata": {},
   "outputs": [
    {
     "name": "stdout",
     "output_type": "stream",
     "text": [
      "33       249864742\n",
      "58       611059232\n",
      "365     1920142716\n",
      "1015    2108080724\n",
      "211     2108163459\n",
      "Name: visitorId, dtype: int64\n",
      "(9,)\n"
     ]
    }
   ],
   "source": [
    "usersWithManyOrders = pd.concat([orders_ByUsersA[orders_ByUsersA['orders'] > 2]['visitorId'], orders_ByUsersB[orders_ByUsersB['orders'] > 2]['visitorId']], axis = 0)\n",
    "usersWithExpensiveOrders = data_orders[data_orders['revenue'] > 2500]['visitorId']\n",
    "abnormalUsers = pd.concat([usersWithManyOrders, usersWithExpensiveOrders], axis = 0).drop_duplicates().sort_values()\n",
    "print(abnormalUsers.head(5))\n",
    "print(abnormalUsers.shape)"
   ]
  },
  {
   "cell_type": "markdown",
   "metadata": {},
   "source": [
    "conclusiones: En total, tenemos 9 usuarios anómalos."
   ]
  },
  {
   "cell_type": "code",
   "execution_count": 180,
   "metadata": {},
   "outputs": [
    {
     "name": "stdout",
     "output_type": "stream",
     "text": [
      "0.00960\n",
      "0.181\n"
     ]
    }
   ],
   "source": [
    "sampleAFiltered = pd.concat([orders_ByUsersA[np.logical_not(orders_ByUsersA['visitorId'].isin(abnormalUsers))]['orders'],pd.Series(0, index=np.arange(data_visitor[data_visitor['group']=='A']['visits'].sum() - len(orders_ByUsersA['orders'])),name='orders')],axis=0)\n",
    "\n",
    "sampleBFiltered = pd.concat([orders_ByUsersB[np.logical_not(orders_ByUsersB['visitorId'].isin(abnormalUsers))]['orders'],pd.Series(0, index=np.arange(data_visitor[data_visitor['group']=='B']['visits'].sum() - len(orders_ByUsersB['orders'])),name='orders')],axis=0)\n",
    "\n",
    "print(\"{0:.5f}\".format(stats.mannwhitneyu(sampleAFiltered, sampleBFiltered)[1]))\n",
    "print(\"{0:.3f}\".format(sampleBFiltered.mean()/sampleAFiltered.mean()-1))"
   ]
  },
  {
   "cell_type": "markdown",
   "metadata": {},
   "source": [
    "Conclusiones: Podemos Inferir que el segmento B es mucho mejor que el segmento A"
   ]
  },
  {
   "cell_type": "code",
   "execution_count": 181,
   "metadata": {},
   "outputs": [
    {
     "name": "stdout",
     "output_type": "stream",
     "text": [
      "0.673\n",
      "-0.091\n"
     ]
    }
   ],
   "source": [
    "print('{0:.3f}'.format(stats.mannwhitneyu(\n",
    "    data_orders[np.logical_and(\n",
    "        data_orders['group']=='A',\n",
    "        np.logical_not(data_orders['visitorId'].isin(abnormalUsers)))]['revenue'],\n",
    "    data_orders[np.logical_and(\n",
    "        data_orders['group']=='B',\n",
    "        np.logical_not(data_orders['visitorId'].isin(abnormalUsers)))]['revenue'])[1]))\n",
    "\n",
    "print('{0:.3f}'.format(\n",
    "    data_orders[np.logical_and(data_orders['group']=='B',np.logical_not(data_orders['visitorId'].isin(abnormalUsers)))]['revenue'].mean()/\n",
    "    data_orders[np.logical_and(\n",
    "        data_orders['group']=='A',\n",
    "        np.logical_not(data_orders['visitorId'].isin(abnormalUsers)))]['revenue'].mean() - 1))"
   ]
  },
  {
   "cell_type": "markdown",
   "metadata": {},
   "source": [
    "Eliminar los datos atipicos si disminuyo ahora la diferencia de los segmentos es del 9 %"
   ]
  },
  {
   "cell_type": "markdown",
   "metadata": {},
   "source": [
    "CONCLUSIONES: Decimos parar la prueba debidoara la prueba debido a  que no hay diferencia entre los grupos"
   ]
  }
 ],
 "metadata": {
  "ExecuteTimeLog": [
   {
    "duration": 489,
    "start_time": "2024-06-03T14:07:44.841Z"
   },
   {
    "duration": 12,
    "start_time": "2024-06-03T14:08:31.978Z"
   },
   {
    "duration": 382,
    "start_time": "2024-06-03T14:08:51.513Z"
   },
   {
    "duration": 14,
    "start_time": "2024-06-03T14:08:58.682Z"
   },
   {
    "duration": 20,
    "start_time": "2024-06-03T14:09:24.496Z"
   },
   {
    "duration": 5,
    "start_time": "2024-06-03T14:09:31.840Z"
   },
   {
    "duration": 28,
    "start_time": "2024-06-03T14:10:00.977Z"
   },
   {
    "duration": 11,
    "start_time": "2024-06-03T14:10:07.866Z"
   },
   {
    "duration": 8,
    "start_time": "2024-06-03T14:10:24.979Z"
   },
   {
    "duration": 11,
    "start_time": "2024-06-03T14:10:34.887Z"
   },
   {
    "duration": 8,
    "start_time": "2024-06-03T14:10:39.412Z"
   },
   {
    "duration": 13,
    "start_time": "2024-06-03T14:16:00.618Z"
   },
   {
    "duration": 26,
    "start_time": "2024-06-03T14:18:48.476Z"
   },
   {
    "duration": 12,
    "start_time": "2024-06-03T14:18:57.753Z"
   },
   {
    "duration": 8,
    "start_time": "2024-06-03T14:18:58.562Z"
   },
   {
    "duration": 29,
    "start_time": "2024-06-03T14:19:00.093Z"
   },
   {
    "duration": 677,
    "start_time": "2024-06-03T14:19:02.381Z"
   },
   {
    "duration": 7,
    "start_time": "2024-06-03T14:19:12.400Z"
   },
   {
    "duration": 11,
    "start_time": "2024-06-03T14:19:15.269Z"
   },
   {
    "duration": 11,
    "start_time": "2024-06-03T14:19:30.340Z"
   },
   {
    "duration": 18,
    "start_time": "2024-06-03T14:19:46.506Z"
   },
   {
    "duration": 4,
    "start_time": "2024-06-03T14:23:50.886Z"
   },
   {
    "duration": 9,
    "start_time": "2024-06-03T14:23:51.827Z"
   },
   {
    "duration": 6,
    "start_time": "2024-06-03T14:27:30.354Z"
   },
   {
    "duration": 9,
    "start_time": "2024-06-03T14:27:35.686Z"
   },
   {
    "duration": 707,
    "start_time": "2024-06-03T14:31:01.319Z"
   },
   {
    "duration": 24,
    "start_time": "2024-06-03T14:32:02.087Z"
   },
   {
    "duration": 14,
    "start_time": "2024-06-03T14:32:19.420Z"
   },
   {
    "duration": 13,
    "start_time": "2024-06-03T14:32:44.973Z"
   },
   {
    "duration": 4,
    "start_time": "2024-06-03T14:37:33.976Z"
   },
   {
    "duration": 16,
    "start_time": "2024-06-03T14:37:37.619Z"
   },
   {
    "duration": 6,
    "start_time": "2024-06-03T14:37:38.487Z"
   },
   {
    "duration": 6,
    "start_time": "2024-06-03T14:37:38.958Z"
   },
   {
    "duration": 9,
    "start_time": "2024-06-03T14:37:39.180Z"
   },
   {
    "duration": 5,
    "start_time": "2024-06-03T14:37:39.588Z"
   },
   {
    "duration": 9,
    "start_time": "2024-06-03T14:37:40.473Z"
   },
   {
    "duration": 8,
    "start_time": "2024-06-03T14:37:40.847Z"
   },
   {
    "duration": 16,
    "start_time": "2024-06-03T14:37:42.185Z"
   },
   {
    "duration": 14,
    "start_time": "2024-06-03T14:37:42.393Z"
   },
   {
    "duration": 20,
    "start_time": "2024-06-03T14:39:13.535Z"
   },
   {
    "duration": 500,
    "start_time": "2024-06-03T14:40:03.757Z"
   },
   {
    "duration": 7,
    "start_time": "2024-06-03T14:40:30.550Z"
   },
   {
    "duration": 69,
    "start_time": "2024-06-03T14:41:19.563Z"
   },
   {
    "duration": 58,
    "start_time": "2024-06-03T14:41:36.304Z"
   },
   {
    "duration": 4,
    "start_time": "2024-06-03T14:41:41.051Z"
   },
   {
    "duration": 17,
    "start_time": "2024-06-03T14:41:41.231Z"
   },
   {
    "duration": 7,
    "start_time": "2024-06-03T14:41:41.401Z"
   },
   {
    "duration": 6,
    "start_time": "2024-06-03T14:41:41.565Z"
   },
   {
    "duration": 9,
    "start_time": "2024-06-03T14:41:41.736Z"
   },
   {
    "duration": 6,
    "start_time": "2024-06-03T14:41:42.091Z"
   },
   {
    "duration": 10,
    "start_time": "2024-06-03T14:41:42.262Z"
   },
   {
    "duration": 10,
    "start_time": "2024-06-03T14:41:42.610Z"
   },
   {
    "duration": 14,
    "start_time": "2024-06-03T14:41:42.947Z"
   },
   {
    "duration": 14,
    "start_time": "2024-06-03T14:41:43.126Z"
   },
   {
    "duration": 19,
    "start_time": "2024-06-03T14:41:43.300Z"
   },
   {
    "duration": 5,
    "start_time": "2024-06-03T14:41:43.483Z"
   },
   {
    "duration": 7,
    "start_time": "2024-06-03T14:42:54.096Z"
   },
   {
    "duration": 7,
    "start_time": "2024-06-03T14:49:30.745Z"
   },
   {
    "duration": 365,
    "start_time": "2024-06-03T14:50:37.857Z"
   },
   {
    "duration": 254,
    "start_time": "2024-06-03T14:51:30.850Z"
   },
   {
    "duration": 416,
    "start_time": "2024-06-03T14:54:39.961Z"
   },
   {
    "duration": 406,
    "start_time": "2024-06-03T14:56:53.145Z"
   },
   {
    "duration": 410,
    "start_time": "2024-06-03T14:56:56.420Z"
   },
   {
    "duration": 4051,
    "start_time": "2024-06-03T14:57:31.819Z"
   },
   {
    "duration": 8,
    "start_time": "2024-06-03T14:59:11.189Z"
   },
   {
    "duration": 38,
    "start_time": "2024-06-03T15:00:16.883Z"
   },
   {
    "duration": 399,
    "start_time": "2024-06-03T15:00:25.880Z"
   },
   {
    "duration": 9,
    "start_time": "2024-06-03T15:00:27.998Z"
   },
   {
    "duration": 235,
    "start_time": "2024-06-03T15:01:17.706Z"
   },
   {
    "duration": 245,
    "start_time": "2024-06-03T15:01:44.956Z"
   },
   {
    "duration": 242,
    "start_time": "2024-06-03T15:03:18.091Z"
   },
   {
    "duration": 347,
    "start_time": "2024-06-03T15:05:07.983Z"
   },
   {
    "duration": 1549,
    "start_time": "2024-06-03T15:09:29.084Z"
   },
   {
    "duration": 7,
    "start_time": "2024-06-03T15:10:12.365Z"
   },
   {
    "duration": 5,
    "start_time": "2024-06-03T15:10:35.780Z"
   },
   {
    "duration": 400,
    "start_time": "2024-06-03T15:10:43.058Z"
   },
   {
    "duration": 5,
    "start_time": "2024-06-03T15:11:20.424Z"
   },
   {
    "duration": 404,
    "start_time": "2024-06-03T15:11:49.004Z"
   },
   {
    "duration": 416,
    "start_time": "2024-06-03T15:13:40.357Z"
   },
   {
    "duration": 284,
    "start_time": "2024-06-03T15:13:58.394Z"
   },
   {
    "duration": 5,
    "start_time": "2024-06-03T15:15:24.983Z"
   },
   {
    "duration": 4,
    "start_time": "2024-06-03T15:15:31.908Z"
   },
   {
    "duration": 4,
    "start_time": "2024-06-03T15:15:39.250Z"
   },
   {
    "duration": 5,
    "start_time": "2024-06-03T15:15:46.703Z"
   },
   {
    "duration": 410,
    "start_time": "2024-06-03T15:16:18.452Z"
   },
   {
    "duration": 424,
    "start_time": "2024-06-03T15:17:14.221Z"
   },
   {
    "duration": 400,
    "start_time": "2024-06-03T15:17:21.234Z"
   },
   {
    "duration": 4434,
    "start_time": "2024-06-03T15:54:45.572Z"
   },
   {
    "duration": 28,
    "start_time": "2024-06-03T15:54:50.010Z"
   },
   {
    "duration": 9,
    "start_time": "2024-06-03T15:54:50.041Z"
   },
   {
    "duration": 7,
    "start_time": "2024-06-03T15:54:50.054Z"
   },
   {
    "duration": 10,
    "start_time": "2024-06-03T15:54:50.064Z"
   },
   {
    "duration": 6,
    "start_time": "2024-06-03T15:54:50.107Z"
   },
   {
    "duration": 10,
    "start_time": "2024-06-03T15:54:50.116Z"
   },
   {
    "duration": 8,
    "start_time": "2024-06-03T15:54:50.130Z"
   },
   {
    "duration": 16,
    "start_time": "2024-06-03T15:54:50.142Z"
   },
   {
    "duration": 13,
    "start_time": "2024-06-03T15:54:50.206Z"
   },
   {
    "duration": 23,
    "start_time": "2024-06-03T15:54:50.222Z"
   },
   {
    "duration": 6,
    "start_time": "2024-06-03T15:54:50.249Z"
   },
   {
    "duration": 451,
    "start_time": "2024-06-03T15:54:50.259Z"
   },
   {
    "duration": 278,
    "start_time": "2024-06-03T15:54:50.712Z"
   },
   {
    "duration": 266,
    "start_time": "2024-06-03T15:54:50.993Z"
   },
   {
    "duration": 410,
    "start_time": "2024-06-03T15:54:51.264Z"
   },
   {
    "duration": 1869,
    "start_time": "2024-06-03T15:55:00.406Z"
   },
   {
    "duration": 0,
    "start_time": "2024-06-03T15:55:02.278Z"
   },
   {
    "duration": 991,
    "start_time": "2024-06-03T15:55:10.899Z"
   },
   {
    "duration": 377,
    "start_time": "2024-06-03T15:56:10.375Z"
   },
   {
    "duration": 575,
    "start_time": "2024-06-03T15:56:31.365Z"
   },
   {
    "duration": 357,
    "start_time": "2024-06-03T15:56:44.309Z"
   },
   {
    "duration": 237,
    "start_time": "2024-06-03T15:57:00.638Z"
   },
   {
    "duration": 254,
    "start_time": "2024-06-03T15:58:13.874Z"
   },
   {
    "duration": 239,
    "start_time": "2024-06-03T15:58:45.049Z"
   },
   {
    "duration": 227,
    "start_time": "2024-06-03T15:59:04.314Z"
   },
   {
    "duration": 253,
    "start_time": "2024-06-03T15:59:32.292Z"
   },
   {
    "duration": 286,
    "start_time": "2024-06-03T15:59:56.512Z"
   },
   {
    "duration": 516,
    "start_time": "2024-06-03T16:00:07.255Z"
   },
   {
    "duration": 403,
    "start_time": "2024-06-03T16:00:21.171Z"
   },
   {
    "duration": 227,
    "start_time": "2024-06-03T16:00:47.629Z"
   },
   {
    "duration": 329,
    "start_time": "2024-06-03T16:01:25.579Z"
   },
   {
    "duration": 273,
    "start_time": "2024-06-03T16:01:40.757Z"
   },
   {
    "duration": 7,
    "start_time": "2024-06-03T16:04:37.942Z"
   },
   {
    "duration": 264,
    "start_time": "2024-06-03T16:04:43.751Z"
   },
   {
    "duration": 259,
    "start_time": "2024-06-03T16:04:59.502Z"
   },
   {
    "duration": 267,
    "start_time": "2024-06-03T16:05:07.742Z"
   },
   {
    "duration": 351,
    "start_time": "2024-06-03T16:05:38.511Z"
   },
   {
    "duration": 517,
    "start_time": "2024-06-03T16:08:21.489Z"
   },
   {
    "duration": 314,
    "start_time": "2024-06-03T16:09:19.034Z"
   },
   {
    "duration": 357,
    "start_time": "2024-06-03T16:10:21.011Z"
   },
   {
    "duration": 214,
    "start_time": "2024-06-03T16:12:31.840Z"
   },
   {
    "duration": 6,
    "start_time": "2024-06-03T16:14:59.259Z"
   },
   {
    "duration": 251,
    "start_time": "2024-06-03T16:18:45.270Z"
   },
   {
    "duration": 249,
    "start_time": "2024-06-03T16:18:52.880Z"
   },
   {
    "duration": 176,
    "start_time": "2024-06-03T16:19:48.143Z"
   },
   {
    "duration": 7,
    "start_time": "2024-06-03T16:20:31.452Z"
   },
   {
    "duration": 158,
    "start_time": "2024-06-03T16:22:45.555Z"
   },
   {
    "duration": 141,
    "start_time": "2024-06-03T16:23:14.258Z"
   },
   {
    "duration": 221,
    "start_time": "2024-06-03T16:23:24.142Z"
   },
   {
    "duration": 28,
    "start_time": "2024-06-03T16:25:40.613Z"
   },
   {
    "duration": 30,
    "start_time": "2024-06-03T16:25:56.097Z"
   },
   {
    "duration": 943,
    "start_time": "2024-06-03T16:26:08.030Z"
   },
   {
    "duration": 91,
    "start_time": "2024-06-03T16:26:56.957Z"
   },
   {
    "duration": 12,
    "start_time": "2024-06-03T16:27:54.653Z"
   },
   {
    "duration": 39,
    "start_time": "2024-06-03T16:28:38.290Z"
   },
   {
    "duration": 456,
    "start_time": "2024-06-03T16:29:14.215Z"
   },
   {
    "duration": 17,
    "start_time": "2024-06-03T16:29:15.621Z"
   },
   {
    "duration": 7,
    "start_time": "2024-06-03T16:29:15.800Z"
   },
   {
    "duration": 6,
    "start_time": "2024-06-03T16:29:15.972Z"
   },
   {
    "duration": 9,
    "start_time": "2024-06-03T16:29:16.155Z"
   },
   {
    "duration": 6,
    "start_time": "2024-06-03T16:29:16.482Z"
   },
   {
    "duration": 10,
    "start_time": "2024-06-03T16:29:16.655Z"
   },
   {
    "duration": 8,
    "start_time": "2024-06-03T16:29:17.012Z"
   },
   {
    "duration": 14,
    "start_time": "2024-06-03T16:29:17.347Z"
   },
   {
    "duration": 15,
    "start_time": "2024-06-03T16:29:17.531Z"
   },
   {
    "duration": 19,
    "start_time": "2024-06-03T16:29:17.698Z"
   },
   {
    "duration": 5,
    "start_time": "2024-06-03T16:29:17.875Z"
   },
   {
    "duration": 429,
    "start_time": "2024-06-03T16:29:18.057Z"
   },
   {
    "duration": 266,
    "start_time": "2024-06-03T16:29:18.489Z"
   },
   {
    "duration": 261,
    "start_time": "2024-06-03T16:29:18.758Z"
   },
   {
    "duration": 351,
    "start_time": "2024-06-03T16:29:19.022Z"
   },
   {
    "duration": 270,
    "start_time": "2024-06-03T16:29:19.377Z"
   },
   {
    "duration": 350,
    "start_time": "2024-06-03T16:29:19.688Z"
   },
   {
    "duration": 211,
    "start_time": "2024-06-03T16:29:20.049Z"
   },
   {
    "duration": 6,
    "start_time": "2024-06-03T16:29:20.432Z"
   },
   {
    "duration": 223,
    "start_time": "2024-06-03T16:29:20.836Z"
   },
   {
    "duration": 172,
    "start_time": "2024-06-03T16:29:21.792Z"
   },
   {
    "duration": 6,
    "start_time": "2024-06-03T16:29:23.287Z"
   },
   {
    "duration": 250,
    "start_time": "2024-06-03T16:29:24.308Z"
   },
   {
    "duration": 37,
    "start_time": "2024-06-03T16:29:25.433Z"
   },
   {
    "duration": 14,
    "start_time": "2024-06-03T16:31:38.482Z"
   },
   {
    "duration": 76,
    "start_time": "2024-06-03T16:38:20.853Z"
   },
   {
    "duration": 13,
    "start_time": "2024-06-03T16:38:46.784Z"
   },
   {
    "duration": 91,
    "start_time": "2024-06-03T16:41:17.518Z"
   },
   {
    "duration": 44,
    "start_time": "2024-06-03T16:41:35.082Z"
   },
   {
    "duration": 37,
    "start_time": "2024-06-03T16:45:18.878Z"
   },
   {
    "duration": 36,
    "start_time": "2024-06-03T16:45:39.652Z"
   },
   {
    "duration": 108,
    "start_time": "2024-06-03T16:46:20.504Z"
   },
   {
    "duration": 18,
    "start_time": "2024-06-03T16:46:38.184Z"
   },
   {
    "duration": 4975,
    "start_time": "2024-06-04T14:02:55.124Z"
   },
   {
    "duration": 32,
    "start_time": "2024-06-04T14:03:00.103Z"
   },
   {
    "duration": 9,
    "start_time": "2024-06-04T14:03:00.138Z"
   },
   {
    "duration": 8,
    "start_time": "2024-06-04T14:03:00.151Z"
   },
   {
    "duration": 10,
    "start_time": "2024-06-04T14:03:00.162Z"
   },
   {
    "duration": 6,
    "start_time": "2024-06-04T14:03:00.175Z"
   },
   {
    "duration": 9,
    "start_time": "2024-06-04T14:03:00.213Z"
   },
   {
    "duration": 9,
    "start_time": "2024-06-04T14:03:00.225Z"
   },
   {
    "duration": 20,
    "start_time": "2024-06-04T14:03:00.237Z"
   },
   {
    "duration": 60,
    "start_time": "2024-06-04T14:03:00.263Z"
   },
   {
    "duration": 20,
    "start_time": "2024-06-04T14:03:00.326Z"
   },
   {
    "duration": 7,
    "start_time": "2024-06-04T14:03:00.349Z"
   },
   {
    "duration": 446,
    "start_time": "2024-06-04T14:03:00.360Z"
   },
   {
    "duration": 299,
    "start_time": "2024-06-04T14:03:00.813Z"
   },
   {
    "duration": 277,
    "start_time": "2024-06-04T14:03:01.115Z"
   },
   {
    "duration": 389,
    "start_time": "2024-06-04T14:03:01.395Z"
   },
   {
    "duration": 272,
    "start_time": "2024-06-04T14:03:01.787Z"
   },
   {
    "duration": 376,
    "start_time": "2024-06-04T14:03:02.062Z"
   },
   {
    "duration": 232,
    "start_time": "2024-06-04T14:03:02.445Z"
   },
   {
    "duration": 6,
    "start_time": "2024-06-04T14:03:02.681Z"
   },
   {
    "duration": 274,
    "start_time": "2024-06-04T14:03:02.690Z"
   },
   {
    "duration": 206,
    "start_time": "2024-06-04T14:03:02.966Z"
   },
   {
    "duration": 6,
    "start_time": "2024-06-04T14:03:03.175Z"
   },
   {
    "duration": 268,
    "start_time": "2024-06-04T14:03:03.184Z"
   },
   {
    "duration": 57,
    "start_time": "2024-06-04T14:03:03.455Z"
   },
   {
    "duration": 18,
    "start_time": "2024-06-04T14:03:03.517Z"
   },
   {
    "duration": 12,
    "start_time": "2024-06-04T14:03:03.538Z"
   },
   {
    "duration": 40,
    "start_time": "2024-06-04T14:03:03.740Z"
   },
   {
    "duration": 19,
    "start_time": "2024-06-04T14:03:04.189Z"
   },
   {
    "duration": 11,
    "start_time": "2024-06-04T14:10:05.248Z"
   },
   {
    "duration": 473,
    "start_time": "2024-06-04T14:48:30.763Z"
   },
   {
    "duration": 214,
    "start_time": "2024-06-04T14:48:42.879Z"
   },
   {
    "duration": 6,
    "start_time": "2024-06-04T14:53:50.778Z"
   },
   {
    "duration": 6,
    "start_time": "2024-06-04T14:54:17.996Z"
   },
   {
    "duration": 6,
    "start_time": "2024-06-04T14:54:28.423Z"
   },
   {
    "duration": 6,
    "start_time": "2024-06-04T14:54:33.750Z"
   },
   {
    "duration": 11,
    "start_time": "2024-06-04T15:00:41.793Z"
   },
   {
    "duration": 14,
    "start_time": "2024-06-04T15:01:00.683Z"
   },
   {
    "duration": 16,
    "start_time": "2024-06-04T15:04:28.729Z"
   },
   {
    "duration": 4,
    "start_time": "2024-06-04T15:32:27.451Z"
   },
   {
    "duration": 19,
    "start_time": "2024-06-04T15:32:27.629Z"
   },
   {
    "duration": 8,
    "start_time": "2024-06-04T15:32:27.802Z"
   },
   {
    "duration": 6,
    "start_time": "2024-06-04T15:32:27.971Z"
   },
   {
    "duration": 10,
    "start_time": "2024-06-04T15:32:28.139Z"
   },
   {
    "duration": 6,
    "start_time": "2024-06-04T15:32:28.471Z"
   },
   {
    "duration": 9,
    "start_time": "2024-06-04T15:32:28.646Z"
   },
   {
    "duration": 10,
    "start_time": "2024-06-04T15:32:28.988Z"
   },
   {
    "duration": 16,
    "start_time": "2024-06-04T15:32:29.332Z"
   },
   {
    "duration": 14,
    "start_time": "2024-06-04T15:32:29.509Z"
   },
   {
    "duration": 19,
    "start_time": "2024-06-04T15:32:29.737Z"
   },
   {
    "duration": 6,
    "start_time": "2024-06-04T15:32:29.858Z"
   },
   {
    "duration": 415,
    "start_time": "2024-06-04T15:32:30.034Z"
   },
   {
    "duration": 267,
    "start_time": "2024-06-04T15:32:30.452Z"
   },
   {
    "duration": 273,
    "start_time": "2024-06-04T15:32:30.723Z"
   },
   {
    "duration": 384,
    "start_time": "2024-06-04T15:32:31.000Z"
   },
   {
    "duration": 276,
    "start_time": "2024-06-04T15:32:31.387Z"
   },
   {
    "duration": 368,
    "start_time": "2024-06-04T15:32:31.666Z"
   },
   {
    "duration": 228,
    "start_time": "2024-06-04T15:32:32.038Z"
   },
   {
    "duration": 6,
    "start_time": "2024-06-04T15:32:32.334Z"
   },
   {
    "duration": 241,
    "start_time": "2024-06-04T15:32:32.704Z"
   },
   {
    "duration": 216,
    "start_time": "2024-06-04T15:32:32.948Z"
   },
   {
    "duration": 5,
    "start_time": "2024-06-04T15:32:33.233Z"
   },
   {
    "duration": 253,
    "start_time": "2024-06-04T15:32:33.592Z"
   },
   {
    "duration": 38,
    "start_time": "2024-06-04T15:32:33.849Z"
   },
   {
    "duration": 14,
    "start_time": "2024-06-04T15:32:34.100Z"
   },
   {
    "duration": 11,
    "start_time": "2024-06-04T15:32:34.467Z"
   },
   {
    "duration": 39,
    "start_time": "2024-06-04T15:32:34.842Z"
   },
   {
    "duration": 19,
    "start_time": "2024-06-04T15:32:35.180Z"
   },
   {
    "duration": 331,
    "start_time": "2024-06-08T22:32:01.580Z"
   },
   {
    "duration": 4997,
    "start_time": "2024-06-08T22:32:07.181Z"
   },
   {
    "duration": 35,
    "start_time": "2024-06-08T22:32:13.221Z"
   },
   {
    "duration": 7,
    "start_time": "2024-06-08T22:32:14.549Z"
   },
   {
    "duration": 5,
    "start_time": "2024-06-08T22:32:33.049Z"
   },
   {
    "duration": 7,
    "start_time": "2024-06-08T22:33:02.458Z"
   },
   {
    "duration": 10,
    "start_time": "2024-06-08T22:33:39.807Z"
   },
   {
    "duration": 8,
    "start_time": "2024-06-08T22:33:51.238Z"
   },
   {
    "duration": 469,
    "start_time": "2024-06-08T22:35:31.413Z"
   },
   {
    "duration": 5,
    "start_time": "2024-06-08T22:36:48.479Z"
   },
   {
    "duration": 6,
    "start_time": "2024-06-08T22:36:58.489Z"
   },
   {
    "duration": 4,
    "start_time": "2024-06-08T22:37:07.418Z"
   },
   {
    "duration": 17,
    "start_time": "2024-06-08T22:37:08.267Z"
   },
   {
    "duration": 12,
    "start_time": "2024-06-08T22:37:09.139Z"
   },
   {
    "duration": 14,
    "start_time": "2024-06-08T22:37:11.423Z"
   },
   {
    "duration": 5,
    "start_time": "2024-06-08T22:37:16.868Z"
   },
   {
    "duration": 17,
    "start_time": "2024-06-08T22:37:18.902Z"
   },
   {
    "duration": 12,
    "start_time": "2024-06-08T22:37:21.300Z"
   },
   {
    "duration": 11,
    "start_time": "2024-06-08T22:37:24.359Z"
   },
   {
    "duration": 8,
    "start_time": "2024-06-08T22:37:37.554Z"
   },
   {
    "duration": 15,
    "start_time": "2024-06-08T22:37:38.780Z"
   },
   {
    "duration": 9,
    "start_time": "2024-06-08T22:37:39.190Z"
   },
   {
    "duration": 5,
    "start_time": "2024-06-08T22:37:40.208Z"
   },
   {
    "duration": 11,
    "start_time": "2024-06-08T22:37:40.425Z"
   },
   {
    "duration": 11,
    "start_time": "2024-06-08T22:37:40.832Z"
   },
   {
    "duration": 14,
    "start_time": "2024-06-08T22:37:41.409Z"
   },
   {
    "duration": 14,
    "start_time": "2024-06-08T22:37:41.583Z"
   },
   {
    "duration": 21,
    "start_time": "2024-06-08T22:37:41.783Z"
   },
   {
    "duration": 5,
    "start_time": "2024-06-08T22:37:41.994Z"
   },
   {
    "duration": 426,
    "start_time": "2024-06-08T22:37:42.632Z"
   },
   {
    "duration": 301,
    "start_time": "2024-06-08T22:37:43.062Z"
   },
   {
    "duration": 349,
    "start_time": "2024-06-08T22:37:43.372Z"
   },
   {
    "duration": 377,
    "start_time": "2024-06-08T22:37:43.914Z"
   },
   {
    "duration": 261,
    "start_time": "2024-06-08T22:37:44.445Z"
   },
   {
    "duration": 357,
    "start_time": "2024-06-08T22:37:45.008Z"
   },
   {
    "duration": 230,
    "start_time": "2024-06-08T22:37:45.531Z"
   },
   {
    "duration": 6,
    "start_time": "2024-06-08T22:37:46.079Z"
   },
   {
    "duration": 268,
    "start_time": "2024-06-08T22:37:46.435Z"
   },
   {
    "duration": 174,
    "start_time": "2024-06-08T22:37:46.795Z"
   },
   {
    "duration": 6,
    "start_time": "2024-06-08T22:37:47.168Z"
   },
   {
    "duration": 248,
    "start_time": "2024-06-08T22:37:47.512Z"
   },
   {
    "duration": 41,
    "start_time": "2024-06-08T22:37:47.763Z"
   },
   {
    "duration": 17,
    "start_time": "2024-06-08T22:37:48.066Z"
   },
   {
    "duration": 12,
    "start_time": "2024-06-08T22:37:48.429Z"
   },
   {
    "duration": 41,
    "start_time": "2024-06-08T22:37:48.790Z"
   },
   {
    "duration": 19,
    "start_time": "2024-06-08T22:37:49.196Z"
   },
   {
    "duration": 4,
    "start_time": "2024-06-08T22:38:56.052Z"
   },
   {
    "duration": 19,
    "start_time": "2024-06-08T22:38:56.993Z"
   },
   {
    "duration": 11,
    "start_time": "2024-06-08T22:38:57.906Z"
   },
   {
    "duration": 6,
    "start_time": "2024-06-08T22:39:01.595Z"
   },
   {
    "duration": 5,
    "start_time": "2024-06-08T22:39:02.599Z"
   },
   {
    "duration": 10,
    "start_time": "2024-06-08T22:39:02.786Z"
   },
   {
    "duration": 8,
    "start_time": "2024-06-08T22:39:03.134Z"
   },
   {
    "duration": 10,
    "start_time": "2024-06-08T22:39:03.300Z"
   },
   {
    "duration": 12,
    "start_time": "2024-06-08T22:39:03.657Z"
   },
   {
    "duration": 18,
    "start_time": "2024-06-08T22:39:04.211Z"
   },
   {
    "duration": 14,
    "start_time": "2024-06-08T22:39:04.399Z"
   },
   {
    "duration": 20,
    "start_time": "2024-06-08T22:39:04.580Z"
   },
   {
    "duration": 6,
    "start_time": "2024-06-08T22:39:04.759Z"
   },
   {
    "duration": 492,
    "start_time": "2024-06-08T22:39:04.953Z"
   },
   {
    "duration": 284,
    "start_time": "2024-06-08T22:39:05.448Z"
   },
   {
    "duration": 271,
    "start_time": "2024-06-08T22:39:05.739Z"
   },
   {
    "duration": 347,
    "start_time": "2024-06-08T22:39:06.254Z"
   },
   {
    "duration": 261,
    "start_time": "2024-06-08T22:39:06.789Z"
   },
   {
    "duration": 364,
    "start_time": "2024-06-08T22:39:07.330Z"
   },
   {
    "duration": 205,
    "start_time": "2024-06-08T22:39:07.851Z"
   },
   {
    "duration": 7,
    "start_time": "2024-06-08T22:39:08.411Z"
   },
   {
    "duration": 251,
    "start_time": "2024-06-08T22:39:08.775Z"
   },
   {
    "duration": 204,
    "start_time": "2024-06-08T22:39:09.124Z"
   },
   {
    "duration": 7,
    "start_time": "2024-06-08T22:39:09.506Z"
   },
   {
    "duration": 282,
    "start_time": "2024-06-08T22:39:09.869Z"
   },
   {
    "duration": 43,
    "start_time": "2024-06-08T22:39:10.154Z"
   },
   {
    "duration": 18,
    "start_time": "2024-06-08T22:39:10.429Z"
   },
   {
    "duration": 14,
    "start_time": "2024-06-08T22:39:10.780Z"
   },
   {
    "duration": 48,
    "start_time": "2024-06-08T22:39:11.141Z"
   },
   {
    "duration": 19,
    "start_time": "2024-06-08T22:39:11.500Z"
   },
   {
    "duration": 8,
    "start_time": "2024-06-08T22:39:40.746Z"
   },
   {
    "duration": 4,
    "start_time": "2024-06-08T22:39:47.733Z"
   },
   {
    "duration": 17,
    "start_time": "2024-06-08T22:39:49.579Z"
   },
   {
    "duration": 10,
    "start_time": "2024-06-08T22:39:50.477Z"
   },
   {
    "duration": 10,
    "start_time": "2024-06-08T22:40:12.558Z"
   },
   {
    "duration": 8,
    "start_time": "2024-06-08T22:40:21.871Z"
   },
   {
    "duration": 6,
    "start_time": "2024-06-08T22:40:22.224Z"
   },
   {
    "duration": 9,
    "start_time": "2024-06-08T22:40:22.403Z"
   },
   {
    "duration": 6,
    "start_time": "2024-06-08T22:40:22.737Z"
   },
   {
    "duration": 10,
    "start_time": "2024-06-08T22:40:22.919Z"
   },
   {
    "duration": 10,
    "start_time": "2024-06-08T22:40:23.270Z"
   },
   {
    "duration": 15,
    "start_time": "2024-06-08T22:40:23.794Z"
   },
   {
    "duration": 13,
    "start_time": "2024-06-08T22:40:23.976Z"
   },
   {
    "duration": 20,
    "start_time": "2024-06-08T22:40:24.147Z"
   },
   {
    "duration": 8,
    "start_time": "2024-06-08T22:40:24.322Z"
   },
   {
    "duration": 486,
    "start_time": "2024-06-08T22:40:24.493Z"
   },
   {
    "duration": 284,
    "start_time": "2024-06-08T22:40:24.982Z"
   },
   {
    "duration": 267,
    "start_time": "2024-06-08T22:40:25.270Z"
   },
   {
    "duration": 350,
    "start_time": "2024-06-08T22:40:25.732Z"
   },
   {
    "duration": 243,
    "start_time": "2024-06-08T22:40:26.262Z"
   },
   {
    "duration": 447,
    "start_time": "2024-06-08T22:40:26.799Z"
   },
   {
    "duration": 208,
    "start_time": "2024-06-08T22:40:27.364Z"
   },
   {
    "duration": 6,
    "start_time": "2024-06-08T22:40:27.863Z"
   },
   {
    "duration": 251,
    "start_time": "2024-06-08T22:40:28.223Z"
   },
   {
    "duration": 169,
    "start_time": "2024-06-08T22:40:28.569Z"
   },
   {
    "duration": 7,
    "start_time": "2024-06-08T22:40:28.920Z"
   },
   {
    "duration": 244,
    "start_time": "2024-06-08T22:40:29.274Z"
   },
   {
    "duration": 38,
    "start_time": "2024-06-08T22:40:29.524Z"
   },
   {
    "duration": 17,
    "start_time": "2024-06-08T22:40:29.816Z"
   },
   {
    "duration": 14,
    "start_time": "2024-06-08T22:40:30.158Z"
   },
   {
    "duration": 40,
    "start_time": "2024-06-08T22:40:30.539Z"
   },
   {
    "duration": 19,
    "start_time": "2024-06-08T22:40:31.293Z"
   },
   {
    "duration": 22,
    "start_time": "2024-06-08T22:42:09.202Z"
   },
   {
    "duration": 9,
    "start_time": "2024-06-08T22:46:30.539Z"
   },
   {
    "duration": 5,
    "start_time": "2024-06-08T22:46:48.204Z"
   },
   {
    "duration": 22,
    "start_time": "2024-06-08T22:46:48.420Z"
   },
   {
    "duration": 8,
    "start_time": "2024-06-08T22:46:48.620Z"
   },
   {
    "duration": 8,
    "start_time": "2024-06-08T22:46:48.810Z"
   },
   {
    "duration": 8,
    "start_time": "2024-06-08T22:46:49.197Z"
   },
   {
    "duration": 10,
    "start_time": "2024-06-08T22:46:49.377Z"
   },
   {
    "duration": 15,
    "start_time": "2024-06-08T22:46:49.741Z"
   },
   {
    "duration": 13,
    "start_time": "2024-06-08T22:46:49.933Z"
   },
   {
    "duration": 11,
    "start_time": "2024-06-08T22:46:50.290Z"
   },
   {
    "duration": 15,
    "start_time": "2024-06-08T22:46:51.060Z"
   },
   {
    "duration": 15,
    "start_time": "2024-06-08T22:46:51.375Z"
   },
   {
    "duration": 953,
    "start_time": "2024-06-08T22:46:51.558Z"
   },
   {
    "duration": 0,
    "start_time": "2024-06-08T22:46:52.515Z"
   },
   {
    "duration": 0,
    "start_time": "2024-06-08T22:46:52.522Z"
   },
   {
    "duration": 0,
    "start_time": "2024-06-08T22:46:52.525Z"
   },
   {
    "duration": 322,
    "start_time": "2024-06-08T22:46:52.613Z"
   },
   {
    "duration": 436,
    "start_time": "2024-06-08T22:46:53.177Z"
   },
   {
    "duration": 378,
    "start_time": "2024-06-08T22:46:53.714Z"
   },
   {
    "duration": 380,
    "start_time": "2024-06-08T22:46:54.255Z"
   },
   {
    "duration": 100,
    "start_time": "2024-06-08T22:46:54.803Z"
   },
   {
    "duration": 107,
    "start_time": "2024-06-08T22:46:55.341Z"
   },
   {
    "duration": 861,
    "start_time": "2024-06-08T22:46:55.717Z"
   },
   {
    "duration": 0,
    "start_time": "2024-06-08T22:46:56.581Z"
   },
   {
    "duration": 0,
    "start_time": "2024-06-08T22:46:56.584Z"
   },
   {
    "duration": 95,
    "start_time": "2024-06-08T22:46:56.787Z"
   },
   {
    "duration": 41,
    "start_time": "2024-06-08T22:46:56.988Z"
   },
   {
    "duration": 130,
    "start_time": "2024-06-08T22:46:57.319Z"
   },
   {
    "duration": 117,
    "start_time": "2024-06-08T22:46:57.674Z"
   },
   {
    "duration": 48,
    "start_time": "2024-06-08T22:46:58.061Z"
   },
   {
    "duration": 115,
    "start_time": "2024-06-08T22:46:58.415Z"
   },
   {
    "duration": 4,
    "start_time": "2024-06-08T22:48:03.303Z"
   },
   {
    "duration": 20,
    "start_time": "2024-06-08T22:48:04.102Z"
   },
   {
    "duration": 16,
    "start_time": "2024-06-08T22:48:04.958Z"
   },
   {
    "duration": 8,
    "start_time": "2024-06-08T22:48:16.160Z"
   },
   {
    "duration": 6,
    "start_time": "2024-06-08T22:48:16.591Z"
   },
   {
    "duration": 10,
    "start_time": "2024-06-08T22:48:16.771Z"
   },
   {
    "duration": 7,
    "start_time": "2024-06-08T22:48:17.179Z"
   },
   {
    "duration": 15,
    "start_time": "2024-06-08T22:48:17.375Z"
   },
   {
    "duration": 11,
    "start_time": "2024-06-08T22:48:17.750Z"
   },
   {
    "duration": 17,
    "start_time": "2024-06-08T22:48:18.289Z"
   },
   {
    "duration": 18,
    "start_time": "2024-06-08T22:48:18.474Z"
   },
   {
    "duration": 19,
    "start_time": "2024-06-08T22:48:18.652Z"
   },
   {
    "duration": 7,
    "start_time": "2024-06-08T22:48:18.852Z"
   },
   {
    "duration": 472,
    "start_time": "2024-06-08T22:48:19.055Z"
   },
   {
    "duration": 363,
    "start_time": "2024-06-08T22:48:19.531Z"
   },
   {
    "duration": 292,
    "start_time": "2024-06-08T22:48:19.900Z"
   },
   {
    "duration": 331,
    "start_time": "2024-06-08T22:48:20.352Z"
   },
   {
    "duration": 302,
    "start_time": "2024-06-08T22:48:20.895Z"
   },
   {
    "duration": 324,
    "start_time": "2024-06-08T22:48:21.457Z"
   },
   {
    "duration": 255,
    "start_time": "2024-06-08T22:48:22.006Z"
   },
   {
    "duration": 6,
    "start_time": "2024-06-08T22:48:22.628Z"
   },
   {
    "duration": 232,
    "start_time": "2024-06-08T22:48:23.092Z"
   },
   {
    "duration": 191,
    "start_time": "2024-06-08T22:48:23.561Z"
   },
   {
    "duration": 8,
    "start_time": "2024-06-08T22:48:24.469Z"
   },
   {
    "duration": 265,
    "start_time": "2024-06-08T22:48:24.860Z"
   },
   {
    "duration": 40,
    "start_time": "2024-06-08T22:48:25.130Z"
   },
   {
    "duration": 20,
    "start_time": "2024-06-08T22:48:25.395Z"
   },
   {
    "duration": 16,
    "start_time": "2024-06-08T22:48:25.756Z"
   },
   {
    "duration": 47,
    "start_time": "2024-06-08T22:48:26.133Z"
   },
   {
    "duration": 25,
    "start_time": "2024-06-08T22:48:26.551Z"
   },
   {
    "duration": 11,
    "start_time": "2024-06-08T22:52:14.653Z"
   },
   {
    "duration": 9,
    "start_time": "2024-06-08T22:52:30.301Z"
   },
   {
    "duration": 9,
    "start_time": "2024-06-08T22:52:32.729Z"
   },
   {
    "duration": 13,
    "start_time": "2024-06-08T22:54:04.716Z"
   },
   {
    "duration": 12,
    "start_time": "2024-06-08T22:54:04.923Z"
   },
   {
    "duration": 6,
    "start_time": "2024-06-08T22:54:05.305Z"
   },
   {
    "duration": 11,
    "start_time": "2024-06-08T22:54:05.503Z"
   },
   {
    "duration": 6,
    "start_time": "2024-06-08T22:54:05.848Z"
   },
   {
    "duration": 11,
    "start_time": "2024-06-08T22:54:06.029Z"
   },
   {
    "duration": 11,
    "start_time": "2024-06-08T22:54:06.379Z"
   },
   {
    "duration": 17,
    "start_time": "2024-06-08T22:54:06.926Z"
   },
   {
    "duration": 18,
    "start_time": "2024-06-08T22:54:07.110Z"
   },
   {
    "duration": 185,
    "start_time": "2024-06-08T22:54:07.270Z"
   },
   {
    "duration": 0,
    "start_time": "2024-06-08T22:54:07.459Z"
   },
   {
    "duration": 507,
    "start_time": "2024-06-08T22:54:07.622Z"
   },
   {
    "duration": 294,
    "start_time": "2024-06-08T22:54:08.133Z"
   },
   {
    "duration": 303,
    "start_time": "2024-06-08T22:54:08.432Z"
   },
   {
    "duration": 394,
    "start_time": "2024-06-08T22:54:08.869Z"
   },
   {
    "duration": 329,
    "start_time": "2024-06-08T22:54:09.404Z"
   },
   {
    "duration": 354,
    "start_time": "2024-06-08T22:54:09.951Z"
   },
   {
    "duration": 245,
    "start_time": "2024-06-08T22:54:10.467Z"
   },
   {
    "duration": 14,
    "start_time": "2024-06-08T22:54:11.005Z"
   },
   {
    "duration": 270,
    "start_time": "2024-06-08T22:54:11.372Z"
   },
   {
    "duration": 204,
    "start_time": "2024-06-08T22:54:11.687Z"
   },
   {
    "duration": 7,
    "start_time": "2024-06-08T22:54:12.051Z"
   },
   {
    "duration": 234,
    "start_time": "2024-06-08T22:54:12.430Z"
   },
   {
    "duration": 55,
    "start_time": "2024-06-08T22:54:12.669Z"
   },
   {
    "duration": 18,
    "start_time": "2024-06-08T22:54:12.944Z"
   },
   {
    "duration": 19,
    "start_time": "2024-06-08T22:54:13.327Z"
   },
   {
    "duration": 46,
    "start_time": "2024-06-08T22:54:13.680Z"
   },
   {
    "duration": 22,
    "start_time": "2024-06-08T22:54:14.033Z"
   },
   {
    "duration": 9,
    "start_time": "2024-06-08T22:54:41.266Z"
   },
   {
    "duration": 10,
    "start_time": "2024-06-08T22:54:45.633Z"
   },
   {
    "duration": 7,
    "start_time": "2024-06-08T22:54:45.990Z"
   },
   {
    "duration": 13,
    "start_time": "2024-06-08T22:54:46.174Z"
   },
   {
    "duration": 7,
    "start_time": "2024-06-08T22:54:46.557Z"
   },
   {
    "duration": 13,
    "start_time": "2024-06-08T22:54:46.690Z"
   },
   {
    "duration": 12,
    "start_time": "2024-06-08T22:54:47.043Z"
   },
   {
    "duration": 18,
    "start_time": "2024-06-08T22:54:47.585Z"
   },
   {
    "duration": 15,
    "start_time": "2024-06-08T22:54:47.769Z"
   },
   {
    "duration": 74,
    "start_time": "2024-06-08T22:54:47.948Z"
   },
   {
    "duration": 74,
    "start_time": "2024-06-08T22:54:48.110Z"
   },
   {
    "duration": 500,
    "start_time": "2024-06-08T22:54:48.315Z"
   },
   {
    "duration": 284,
    "start_time": "2024-06-08T22:54:48.823Z"
   },
   {
    "duration": 279,
    "start_time": "2024-06-08T22:54:49.122Z"
   },
   {
    "duration": 412,
    "start_time": "2024-06-08T22:54:49.578Z"
   },
   {
    "duration": 294,
    "start_time": "2024-06-08T22:54:50.121Z"
   },
   {
    "duration": 392,
    "start_time": "2024-06-08T22:54:50.703Z"
   },
   {
    "duration": 245,
    "start_time": "2024-06-08T22:54:51.182Z"
   },
   {
    "duration": 10,
    "start_time": "2024-06-08T22:54:51.736Z"
   },
   {
    "duration": 247,
    "start_time": "2024-06-08T22:54:52.092Z"
   },
   {
    "duration": 203,
    "start_time": "2024-06-08T22:54:52.447Z"
   },
   {
    "duration": 7,
    "start_time": "2024-06-08T22:54:52.814Z"
   },
   {
    "duration": 252,
    "start_time": "2024-06-08T22:54:53.194Z"
   },
   {
    "duration": 44,
    "start_time": "2024-06-08T22:54:53.450Z"
   },
   {
    "duration": 21,
    "start_time": "2024-06-08T22:54:53.738Z"
   },
   {
    "duration": 15,
    "start_time": "2024-06-08T22:54:54.084Z"
   },
   {
    "duration": 48,
    "start_time": "2024-06-08T22:54:54.467Z"
   },
   {
    "duration": 29,
    "start_time": "2024-06-08T22:54:54.837Z"
   },
   {
    "duration": 78,
    "start_time": "2024-06-08T22:55:53.231Z"
   },
   {
    "duration": 5,
    "start_time": "2024-06-08T22:56:08.496Z"
   },
   {
    "duration": 20,
    "start_time": "2024-06-08T22:56:09.342Z"
   },
   {
    "duration": 4,
    "start_time": "2024-06-08T22:56:10.414Z"
   },
   {
    "duration": 8,
    "start_time": "2024-06-08T22:56:10.939Z"
   },
   {
    "duration": 8,
    "start_time": "2024-06-08T22:56:12.160Z"
   },
   {
    "duration": 9,
    "start_time": "2024-06-08T22:56:12.722Z"
   },
   {
    "duration": 8,
    "start_time": "2024-06-08T22:56:14.032Z"
   },
   {
    "duration": 12,
    "start_time": "2024-06-08T22:56:14.805Z"
   },
   {
    "duration": 11,
    "start_time": "2024-06-08T22:56:16.399Z"
   },
   {
    "duration": 19,
    "start_time": "2024-06-08T22:56:18.306Z"
   },
   {
    "duration": 15,
    "start_time": "2024-06-08T22:56:19.150Z"
   },
   {
    "duration": 23,
    "start_time": "2024-06-08T22:56:20.142Z"
   },
   {
    "duration": 6,
    "start_time": "2024-06-08T22:56:25.998Z"
   },
   {
    "duration": 483,
    "start_time": "2024-06-08T22:56:30.298Z"
   },
   {
    "duration": 296,
    "start_time": "2024-06-08T22:56:30.786Z"
   },
   {
    "duration": 304,
    "start_time": "2024-06-08T22:56:31.096Z"
   },
   {
    "duration": 382,
    "start_time": "2024-06-08T22:56:31.590Z"
   },
   {
    "duration": 486,
    "start_time": "2024-06-08T22:56:32.141Z"
   },
   {
    "duration": 376,
    "start_time": "2024-06-08T22:56:32.699Z"
   },
   {
    "duration": 251,
    "start_time": "2024-06-08T22:56:33.304Z"
   },
   {
    "duration": 7,
    "start_time": "2024-06-08T22:56:33.842Z"
   },
   {
    "duration": 222,
    "start_time": "2024-06-08T22:56:34.230Z"
   },
   {
    "duration": 213,
    "start_time": "2024-06-08T22:56:34.581Z"
   },
   {
    "duration": 7,
    "start_time": "2024-06-08T22:56:34.959Z"
   },
   {
    "duration": 241,
    "start_time": "2024-06-08T22:56:35.338Z"
   },
   {
    "duration": 50,
    "start_time": "2024-06-08T22:56:35.584Z"
   },
   {
    "duration": 19,
    "start_time": "2024-06-08T22:56:35.900Z"
   },
   {
    "duration": 14,
    "start_time": "2024-06-08T22:56:36.280Z"
   },
   {
    "duration": 50,
    "start_time": "2024-06-08T22:56:36.659Z"
   },
   {
    "duration": 23,
    "start_time": "2024-06-08T22:56:37.106Z"
   },
   {
    "duration": 5,
    "start_time": "2024-06-08T23:04:44.334Z"
   },
   {
    "duration": 21,
    "start_time": "2024-06-08T23:04:45.990Z"
   },
   {
    "duration": 5,
    "start_time": "2024-06-08T23:04:48.259Z"
   },
   {
    "duration": 8,
    "start_time": "2024-06-08T23:04:48.464Z"
   },
   {
    "duration": 6,
    "start_time": "2024-06-08T23:04:48.856Z"
   },
   {
    "duration": 9,
    "start_time": "2024-06-08T23:04:49.038Z"
   },
   {
    "duration": 7,
    "start_time": "2024-06-08T23:04:49.644Z"
   },
   {
    "duration": 11,
    "start_time": "2024-06-08T23:04:49.838Z"
   },
   {
    "duration": 11,
    "start_time": "2024-06-08T23:04:50.217Z"
   },
   {
    "duration": 18,
    "start_time": "2024-06-08T23:04:50.779Z"
   },
   {
    "duration": 15,
    "start_time": "2024-06-08T23:04:50.971Z"
   },
   {
    "duration": 24,
    "start_time": "2024-06-08T23:04:51.143Z"
   },
   {
    "duration": 10,
    "start_time": "2024-06-08T23:04:51.349Z"
   },
   {
    "duration": 528,
    "start_time": "2024-06-08T23:04:51.531Z"
   },
   {
    "duration": 304,
    "start_time": "2024-06-08T23:04:52.062Z"
   },
   {
    "duration": 299,
    "start_time": "2024-06-08T23:04:52.371Z"
   },
   {
    "duration": 382,
    "start_time": "2024-06-08T23:04:52.825Z"
   },
   {
    "duration": 272,
    "start_time": "2024-06-08T23:04:53.367Z"
   },
   {
    "duration": 354,
    "start_time": "2024-06-08T23:04:53.954Z"
   },
   {
    "duration": 254,
    "start_time": "2024-06-08T23:04:54.523Z"
   },
   {
    "duration": 8,
    "start_time": "2024-06-08T23:04:55.068Z"
   },
   {
    "duration": 248,
    "start_time": "2024-06-08T23:04:55.445Z"
   },
   {
    "duration": 234,
    "start_time": "2024-06-08T23:04:55.819Z"
   },
   {
    "duration": 8,
    "start_time": "2024-06-08T23:04:56.194Z"
   },
   {
    "duration": 217,
    "start_time": "2024-06-08T23:04:56.576Z"
   },
   {
    "duration": 53,
    "start_time": "2024-06-08T23:04:56.797Z"
   },
   {
    "duration": 16,
    "start_time": "2024-06-08T23:04:57.193Z"
   },
   {
    "duration": 16,
    "start_time": "2024-06-08T23:04:57.553Z"
   },
   {
    "duration": 51,
    "start_time": "2024-06-08T23:04:57.941Z"
   },
   {
    "duration": 23,
    "start_time": "2024-06-08T23:04:58.339Z"
   },
   {
    "duration": 8,
    "start_time": "2024-06-08T23:05:26.706Z"
   },
   {
    "duration": 18,
    "start_time": "2024-06-08T23:05:29.648Z"
   },
   {
    "duration": 22,
    "start_time": "2024-06-08T23:05:30.528Z"
   },
   {
    "duration": 16,
    "start_time": "2024-06-08T23:05:31.271Z"
   },
   {
    "duration": 6,
    "start_time": "2024-06-08T23:05:39.031Z"
   },
   {
    "duration": 20,
    "start_time": "2024-06-08T23:05:40.053Z"
   },
   {
    "duration": 13,
    "start_time": "2024-06-08T23:05:40.253Z"
   },
   {
    "duration": 5,
    "start_time": "2024-06-08T23:05:40.451Z"
   },
   {
    "duration": 10,
    "start_time": "2024-06-08T23:05:40.689Z"
   },
   {
    "duration": 8,
    "start_time": "2024-06-08T23:05:41.082Z"
   },
   {
    "duration": 10,
    "start_time": "2024-06-08T23:05:41.274Z"
   },
   {
    "duration": 8,
    "start_time": "2024-06-08T23:05:41.635Z"
   },
   {
    "duration": 11,
    "start_time": "2024-06-08T23:05:41.817Z"
   },
   {
    "duration": 11,
    "start_time": "2024-06-08T23:05:42.197Z"
   },
   {
    "duration": 17,
    "start_time": "2024-06-08T23:05:42.738Z"
   },
   {
    "duration": 20,
    "start_time": "2024-06-08T23:05:42.920Z"
   },
   {
    "duration": 27,
    "start_time": "2024-06-08T23:05:43.109Z"
   },
   {
    "duration": 7,
    "start_time": "2024-06-08T23:05:43.307Z"
   },
   {
    "duration": 509,
    "start_time": "2024-06-08T23:05:43.483Z"
   },
   {
    "duration": 337,
    "start_time": "2024-06-08T23:05:43.996Z"
   },
   {
    "duration": 298,
    "start_time": "2024-06-08T23:05:44.338Z"
   },
   {
    "duration": 377,
    "start_time": "2024-06-08T23:05:44.776Z"
   },
   {
    "duration": 276,
    "start_time": "2024-06-08T23:05:45.338Z"
   },
   {
    "duration": 392,
    "start_time": "2024-06-08T23:05:45.898Z"
   },
   {
    "duration": 266,
    "start_time": "2024-06-08T23:05:46.476Z"
   },
   {
    "duration": 12,
    "start_time": "2024-06-08T23:05:47.027Z"
   },
   {
    "duration": 286,
    "start_time": "2024-06-08T23:05:47.416Z"
   },
   {
    "duration": 209,
    "start_time": "2024-06-08T23:05:47.775Z"
   },
   {
    "duration": 6,
    "start_time": "2024-06-08T23:05:48.159Z"
   },
   {
    "duration": 308,
    "start_time": "2024-06-08T23:05:48.521Z"
   },
   {
    "duration": 44,
    "start_time": "2024-06-08T23:05:48.833Z"
   },
   {
    "duration": 17,
    "start_time": "2024-06-08T23:05:49.082Z"
   },
   {
    "duration": 16,
    "start_time": "2024-06-08T23:05:49.459Z"
   },
   {
    "duration": 53,
    "start_time": "2024-06-08T23:05:49.817Z"
   },
   {
    "duration": 23,
    "start_time": "2024-06-08T23:05:50.208Z"
   },
   {
    "duration": 12,
    "start_time": "2024-06-08T23:06:32.286Z"
   },
   {
    "duration": 5,
    "start_time": "2024-06-08T23:07:35.807Z"
   },
   {
    "duration": 20,
    "start_time": "2024-06-08T23:07:37.255Z"
   },
   {
    "duration": 12,
    "start_time": "2024-06-08T23:07:38.556Z"
   },
   {
    "duration": 5,
    "start_time": "2024-06-08T23:07:39.939Z"
   },
   {
    "duration": 8,
    "start_time": "2024-06-08T23:07:41.520Z"
   },
   {
    "duration": 9,
    "start_time": "2024-06-08T23:07:42.910Z"
   },
   {
    "duration": 11,
    "start_time": "2024-06-08T23:07:43.114Z"
   },
   {
    "duration": 6,
    "start_time": "2024-06-08T23:07:43.568Z"
   },
   {
    "duration": 10,
    "start_time": "2024-06-08T23:07:43.777Z"
   },
   {
    "duration": 12,
    "start_time": "2024-06-08T23:07:44.158Z"
   },
   {
    "duration": 19,
    "start_time": "2024-06-08T23:07:44.766Z"
   },
   {
    "duration": 18,
    "start_time": "2024-06-08T23:07:44.961Z"
   },
   {
    "duration": 27,
    "start_time": "2024-06-08T23:07:45.136Z"
   },
   {
    "duration": 7,
    "start_time": "2024-06-08T23:07:45.336Z"
   },
   {
    "duration": 471,
    "start_time": "2024-06-08T23:07:45.534Z"
   },
   {
    "duration": 314,
    "start_time": "2024-06-08T23:07:46.009Z"
   },
   {
    "duration": 302,
    "start_time": "2024-06-08T23:07:46.327Z"
   },
   {
    "duration": 394,
    "start_time": "2024-06-08T23:07:46.902Z"
   },
   {
    "duration": 279,
    "start_time": "2024-06-08T23:07:47.469Z"
   },
   {
    "duration": 350,
    "start_time": "2024-06-08T23:07:48.049Z"
   },
   {
    "duration": 224,
    "start_time": "2024-06-08T23:07:48.639Z"
   },
   {
    "duration": 6,
    "start_time": "2024-06-08T23:07:49.200Z"
   },
   {
    "duration": 281,
    "start_time": "2024-06-08T23:07:49.614Z"
   },
   {
    "duration": 207,
    "start_time": "2024-06-08T23:07:50.006Z"
   },
   {
    "duration": 6,
    "start_time": "2024-06-08T23:07:50.393Z"
   },
   {
    "duration": 277,
    "start_time": "2024-06-08T23:07:50.801Z"
   },
   {
    "duration": 62,
    "start_time": "2024-06-08T23:07:51.082Z"
   },
   {
    "duration": 19,
    "start_time": "2024-06-08T23:07:51.380Z"
   },
   {
    "duration": 14,
    "start_time": "2024-06-08T23:07:51.778Z"
   },
   {
    "duration": 41,
    "start_time": "2024-06-08T23:07:52.167Z"
   },
   {
    "duration": 22,
    "start_time": "2024-06-08T23:07:52.588Z"
   },
   {
    "duration": 12,
    "start_time": "2024-06-08T23:08:17.145Z"
   },
   {
    "duration": 8,
    "start_time": "2024-06-08T23:08:18.437Z"
   },
   {
    "duration": 11,
    "start_time": "2024-06-08T23:08:58.878Z"
   },
   {
    "duration": 18,
    "start_time": "2024-06-08T23:09:27.062Z"
   },
   {
    "duration": 12,
    "start_time": "2024-06-08T23:09:50.623Z"
   },
   {
    "duration": 5,
    "start_time": "2024-06-08T23:09:55.578Z"
   },
   {
    "duration": 19,
    "start_time": "2024-06-08T23:09:56.367Z"
   },
   {
    "duration": 11,
    "start_time": "2024-06-08T23:09:57.298Z"
   },
   {
    "duration": 10,
    "start_time": "2024-06-08T23:09:58.798Z"
   },
   {
    "duration": 9,
    "start_time": "2024-06-08T23:10:00.058Z"
   },
   {
    "duration": 7,
    "start_time": "2024-06-08T23:10:05.130Z"
   },
   {
    "duration": 16,
    "start_time": "2024-06-08T23:10:05.977Z"
   },
   {
    "duration": 8,
    "start_time": "2024-06-08T23:10:16.934Z"
   },
   {
    "duration": 12,
    "start_time": "2024-06-08T23:10:17.138Z"
   },
   {
    "duration": 13,
    "start_time": "2024-06-08T23:10:18.181Z"
   },
   {
    "duration": 22,
    "start_time": "2024-06-08T23:10:19.850Z"
   },
   {
    "duration": 4,
    "start_time": "2024-06-08T23:10:33.983Z"
   },
   {
    "duration": 15,
    "start_time": "2024-06-08T23:10:34.716Z"
   },
   {
    "duration": 14,
    "start_time": "2024-06-08T23:10:34.914Z"
   },
   {
    "duration": 7,
    "start_time": "2024-06-08T23:10:35.322Z"
   },
   {
    "duration": 7,
    "start_time": "2024-06-08T23:10:36.108Z"
   },
   {
    "duration": 6,
    "start_time": "2024-06-08T23:10:36.540Z"
   },
   {
    "duration": 10,
    "start_time": "2024-06-08T23:10:36.741Z"
   },
   {
    "duration": 5,
    "start_time": "2024-06-08T23:10:37.416Z"
   },
   {
    "duration": 10,
    "start_time": "2024-06-08T23:10:37.966Z"
   },
   {
    "duration": 10,
    "start_time": "2024-06-08T23:10:39.002Z"
   },
   {
    "duration": 14,
    "start_time": "2024-06-08T23:10:41.260Z"
   },
   {
    "duration": 15,
    "start_time": "2024-06-08T23:10:47.025Z"
   },
   {
    "duration": 20,
    "start_time": "2024-06-08T23:10:48.636Z"
   },
   {
    "duration": 7,
    "start_time": "2024-06-08T23:10:49.484Z"
   },
   {
    "duration": 484,
    "start_time": "2024-06-08T23:10:51.243Z"
   },
   {
    "duration": 272,
    "start_time": "2024-06-08T23:10:52.388Z"
   },
   {
    "duration": 342,
    "start_time": "2024-06-08T23:10:54.208Z"
   },
   {
    "duration": 395,
    "start_time": "2024-06-08T23:10:54.809Z"
   },
   {
    "duration": 374,
    "start_time": "2024-06-08T23:10:55.398Z"
   },
   {
    "duration": 401,
    "start_time": "2024-06-08T23:10:55.975Z"
   },
   {
    "duration": 307,
    "start_time": "2024-06-08T23:10:56.535Z"
   },
   {
    "duration": 13,
    "start_time": "2024-06-08T23:10:57.123Z"
   },
   {
    "duration": 261,
    "start_time": "2024-06-08T23:10:57.490Z"
   },
   {
    "duration": 217,
    "start_time": "2024-06-08T23:10:57.886Z"
   },
   {
    "duration": 7,
    "start_time": "2024-06-08T23:10:58.259Z"
   },
   {
    "duration": 286,
    "start_time": "2024-06-08T23:10:58.653Z"
   },
   {
    "duration": 41,
    "start_time": "2024-06-08T23:10:58.943Z"
   },
   {
    "duration": 18,
    "start_time": "2024-06-08T23:10:59.223Z"
   },
   {
    "duration": 16,
    "start_time": "2024-06-08T23:10:59.600Z"
   },
   {
    "duration": 44,
    "start_time": "2024-06-08T23:10:59.976Z"
   },
   {
    "duration": 20,
    "start_time": "2024-06-08T23:11:00.374Z"
   },
   {
    "duration": 5,
    "start_time": "2024-06-08T23:12:14.118Z"
   },
   {
    "duration": 22,
    "start_time": "2024-06-08T23:12:14.932Z"
   },
   {
    "duration": 12,
    "start_time": "2024-06-08T23:12:16.777Z"
   },
   {
    "duration": 8,
    "start_time": "2024-06-08T23:12:18.664Z"
   },
   {
    "duration": 5,
    "start_time": "2024-06-08T23:12:25.027Z"
   },
   {
    "duration": 30,
    "start_time": "2024-06-08T23:12:25.891Z"
   },
   {
    "duration": 16,
    "start_time": "2024-06-08T23:12:26.679Z"
   },
   {
    "duration": 4,
    "start_time": "2024-06-08T23:12:29.194Z"
   },
   {
    "duration": 10,
    "start_time": "2024-06-08T23:12:29.981Z"
   },
   {
    "duration": 7,
    "start_time": "2024-06-08T23:12:31.307Z"
   },
   {
    "duration": 9,
    "start_time": "2024-06-08T23:12:31.922Z"
   },
   {
    "duration": 13,
    "start_time": "2024-06-08T23:12:33.308Z"
   },
   {
    "duration": 12,
    "start_time": "2024-06-08T23:12:34.175Z"
   },
   {
    "duration": 13,
    "start_time": "2024-06-08T23:12:39.139Z"
   },
   {
    "duration": 18,
    "start_time": "2024-06-08T23:12:43.945Z"
   },
   {
    "duration": 16,
    "start_time": "2024-06-08T23:12:51.370Z"
   },
   {
    "duration": 19,
    "start_time": "2024-06-08T23:12:51.922Z"
   },
   {
    "duration": 7,
    "start_time": "2024-06-08T23:12:52.221Z"
   },
   {
    "duration": 506,
    "start_time": "2024-06-08T23:12:52.410Z"
   },
   {
    "duration": 291,
    "start_time": "2024-06-08T23:12:52.920Z"
   },
   {
    "duration": 288,
    "start_time": "2024-06-08T23:12:53.224Z"
   },
   {
    "duration": 387,
    "start_time": "2024-06-08T23:12:53.814Z"
   },
   {
    "duration": 562,
    "start_time": "2024-06-08T23:12:54.393Z"
   },
   {
    "duration": 390,
    "start_time": "2024-06-08T23:12:54.991Z"
   },
   {
    "duration": 224,
    "start_time": "2024-06-08T23:12:55.579Z"
   },
   {
    "duration": 6,
    "start_time": "2024-06-08T23:12:56.157Z"
   },
   {
    "duration": 242,
    "start_time": "2024-06-08T23:12:56.562Z"
   },
   {
    "duration": 185,
    "start_time": "2024-06-08T23:12:56.955Z"
   },
   {
    "duration": 6,
    "start_time": "2024-06-08T23:12:57.326Z"
   },
   {
    "duration": 252,
    "start_time": "2024-06-08T23:12:57.721Z"
   },
   {
    "duration": 52,
    "start_time": "2024-06-08T23:12:57.977Z"
   },
   {
    "duration": 17,
    "start_time": "2024-06-08T23:12:58.294Z"
   },
   {
    "duration": 14,
    "start_time": "2024-06-08T23:12:58.690Z"
   },
   {
    "duration": 43,
    "start_time": "2024-06-08T23:12:59.072Z"
   },
   {
    "duration": 26,
    "start_time": "2024-06-08T23:12:59.491Z"
   },
   {
    "duration": 5,
    "start_time": "2024-06-08T23:17:04.750Z"
   },
   {
    "duration": 120,
    "start_time": "2024-06-08T23:17:24.291Z"
   },
   {
    "duration": 7,
    "start_time": "2024-06-08T23:18:08.672Z"
   },
   {
    "duration": 12,
    "start_time": "2024-06-08T23:19:08.364Z"
   },
   {
    "duration": 7,
    "start_time": "2024-06-08T23:19:22.296Z"
   },
   {
    "duration": 7,
    "start_time": "2024-06-08T23:19:39.714Z"
   },
   {
    "duration": 15,
    "start_time": "2024-06-08T23:20:09.700Z"
   },
   {
    "duration": 6,
    "start_time": "2024-06-08T23:20:28.924Z"
   },
   {
    "duration": 13,
    "start_time": "2024-06-08T23:20:47.615Z"
   },
   {
    "duration": 8,
    "start_time": "2024-06-08T23:22:10.669Z"
   },
   {
    "duration": 13,
    "start_time": "2024-06-08T23:22:18.445Z"
   },
   {
    "duration": 403,
    "start_time": "2024-06-08T23:22:41.165Z"
   },
   {
    "duration": 14,
    "start_time": "2024-06-08T23:23:47.835Z"
   },
   {
    "duration": 15,
    "start_time": "2024-06-08T23:24:20.800Z"
   },
   {
    "duration": 15,
    "start_time": "2024-06-08T23:25:17.792Z"
   },
   {
    "duration": 8,
    "start_time": "2024-06-08T23:26:33.092Z"
   },
   {
    "duration": 16,
    "start_time": "2024-06-08T23:26:43.442Z"
   },
   {
    "duration": 20,
    "start_time": "2024-06-08T23:27:00.017Z"
   },
   {
    "duration": 16,
    "start_time": "2024-06-08T23:27:25.322Z"
   },
   {
    "duration": 14,
    "start_time": "2024-06-08T23:27:36.165Z"
   },
   {
    "duration": 14,
    "start_time": "2024-06-08T23:27:57.138Z"
   },
   {
    "duration": 13,
    "start_time": "2024-06-08T23:28:08.607Z"
   },
   {
    "duration": 14,
    "start_time": "2024-06-08T23:28:26.160Z"
   },
   {
    "duration": 5,
    "start_time": "2024-06-08T23:29:30.754Z"
   },
   {
    "duration": 12,
    "start_time": "2024-06-08T23:30:10.880Z"
   },
   {
    "duration": 19,
    "start_time": "2024-06-08T23:31:11.017Z"
   },
   {
    "duration": 188,
    "start_time": "2024-06-08T23:31:51.052Z"
   },
   {
    "duration": 16,
    "start_time": "2024-06-08T23:32:03.556Z"
   },
   {
    "duration": 14,
    "start_time": "2024-06-08T23:33:12.041Z"
   },
   {
    "duration": 17,
    "start_time": "2024-06-08T23:35:03.011Z"
   },
   {
    "duration": 235,
    "start_time": "2024-06-08T23:35:38.539Z"
   },
   {
    "duration": 95,
    "start_time": "2024-06-08T23:35:56.814Z"
   },
   {
    "duration": 92,
    "start_time": "2024-06-08T23:36:46.520Z"
   },
   {
    "duration": 5,
    "start_time": "2024-06-08T23:36:57.302Z"
   },
   {
    "duration": 24,
    "start_time": "2024-06-08T23:36:58.120Z"
   },
   {
    "duration": 10,
    "start_time": "2024-06-08T23:36:58.706Z"
   },
   {
    "duration": 15,
    "start_time": "2024-06-08T23:37:08.155Z"
   },
   {
    "duration": 17,
    "start_time": "2024-06-08T23:37:17.127Z"
   },
   {
    "duration": 99,
    "start_time": "2024-06-08T23:37:39.796Z"
   },
   {
    "duration": 5,
    "start_time": "2024-06-08T23:37:49.119Z"
   },
   {
    "duration": 20,
    "start_time": "2024-06-08T23:37:49.335Z"
   },
   {
    "duration": 12,
    "start_time": "2024-06-08T23:37:49.526Z"
   },
   {
    "duration": 46,
    "start_time": "2024-06-08T23:37:49.717Z"
   },
   {
    "duration": 115,
    "start_time": "2024-06-08T23:37:49.900Z"
   },
   {
    "duration": 395,
    "start_time": "2024-06-08T23:37:50.092Z"
   },
   {
    "duration": 1,
    "start_time": "2024-06-08T23:37:50.490Z"
   },
   {
    "duration": 106,
    "start_time": "2024-06-08T23:38:27.742Z"
   },
   {
    "duration": 126,
    "start_time": "2024-06-08T23:38:33.841Z"
   },
   {
    "duration": 12,
    "start_time": "2024-06-08T23:38:39.834Z"
   },
   {
    "duration": 93,
    "start_time": "2024-06-08T23:38:53.114Z"
   },
   {
    "duration": 6,
    "start_time": "2024-06-08T23:39:04.716Z"
   },
   {
    "duration": 21,
    "start_time": "2024-06-08T23:39:05.650Z"
   },
   {
    "duration": 12,
    "start_time": "2024-06-08T23:39:06.566Z"
   },
   {
    "duration": 17,
    "start_time": "2024-06-08T23:39:10.096Z"
   },
   {
    "duration": 94,
    "start_time": "2024-06-08T23:39:15.814Z"
   },
   {
    "duration": 125,
    "start_time": "2024-06-08T23:39:46.619Z"
   },
   {
    "duration": 94,
    "start_time": "2024-06-08T23:39:47.981Z"
   },
   {
    "duration": 107,
    "start_time": "2024-06-08T23:39:49.505Z"
   },
   {
    "duration": 8,
    "start_time": "2024-06-08T23:39:50.663Z"
   },
   {
    "duration": 6,
    "start_time": "2024-06-08T23:39:51.040Z"
   },
   {
    "duration": 9,
    "start_time": "2024-06-08T23:39:51.241Z"
   },
   {
    "duration": 7,
    "start_time": "2024-06-08T23:39:51.600Z"
   },
   {
    "duration": 12,
    "start_time": "2024-06-08T23:39:51.774Z"
   },
   {
    "duration": 10,
    "start_time": "2024-06-08T23:39:52.141Z"
   },
   {
    "duration": 27,
    "start_time": "2024-06-08T23:39:52.668Z"
   },
   {
    "duration": 15,
    "start_time": "2024-06-08T23:39:52.841Z"
   },
   {
    "duration": 57,
    "start_time": "2024-06-08T23:39:53.029Z"
   },
   {
    "duration": 6,
    "start_time": "2024-06-08T23:39:53.180Z"
   },
   {
    "duration": 124,
    "start_time": "2024-06-08T23:39:53.368Z"
   },
   {
    "duration": 301,
    "start_time": "2024-06-08T23:39:53.538Z"
   },
   {
    "duration": 382,
    "start_time": "2024-06-08T23:39:54.090Z"
   },
   {
    "duration": 382,
    "start_time": "2024-06-08T23:39:54.627Z"
   },
   {
    "duration": 269,
    "start_time": "2024-06-08T23:39:55.156Z"
   },
   {
    "duration": 5,
    "start_time": "2024-06-08T23:40:01.763Z"
   },
   {
    "duration": 26,
    "start_time": "2024-06-08T23:40:02.563Z"
   },
   {
    "duration": 9,
    "start_time": "2024-06-08T23:40:04.342Z"
   },
   {
    "duration": 15,
    "start_time": "2024-06-08T23:40:06.754Z"
   },
   {
    "duration": 16,
    "start_time": "2024-06-08T23:40:22.708Z"
   },
   {
    "duration": 10,
    "start_time": "2024-06-08T23:40:25.121Z"
   },
   {
    "duration": 7,
    "start_time": "2024-06-08T23:40:25.507Z"
   },
   {
    "duration": 10,
    "start_time": "2024-06-08T23:40:25.697Z"
   },
   {
    "duration": 8,
    "start_time": "2024-06-08T23:40:26.054Z"
   },
   {
    "duration": 10,
    "start_time": "2024-06-08T23:40:26.233Z"
   },
   {
    "duration": 11,
    "start_time": "2024-06-08T23:40:26.599Z"
   },
   {
    "duration": 17,
    "start_time": "2024-06-08T23:40:27.160Z"
   },
   {
    "duration": 17,
    "start_time": "2024-06-08T23:40:27.334Z"
   },
   {
    "duration": 82,
    "start_time": "2024-06-08T23:40:27.522Z"
   },
   {
    "duration": 10,
    "start_time": "2024-06-08T23:40:27.719Z"
   },
   {
    "duration": 120,
    "start_time": "2024-06-08T23:40:27.918Z"
   },
   {
    "duration": 287,
    "start_time": "2024-06-08T23:40:28.104Z"
   },
   {
    "duration": 267,
    "start_time": "2024-06-08T23:40:28.662Z"
   },
   {
    "duration": 382,
    "start_time": "2024-06-08T23:40:29.222Z"
   },
   {
    "duration": 292,
    "start_time": "2024-06-08T23:40:29.770Z"
   },
   {
    "duration": 382,
    "start_time": "2024-06-08T23:40:30.316Z"
   },
   {
    "duration": 103,
    "start_time": "2024-06-08T23:40:30.875Z"
   },
   {
    "duration": 100,
    "start_time": "2024-06-08T23:40:31.434Z"
   },
   {
    "duration": 79,
    "start_time": "2024-06-08T23:40:31.829Z"
   },
   {
    "duration": 186,
    "start_time": "2024-06-08T23:40:32.184Z"
   },
   {
    "duration": 8,
    "start_time": "2024-06-08T23:40:32.556Z"
   },
   {
    "duration": 538,
    "start_time": "2024-06-08T23:40:32.926Z"
   },
   {
    "duration": 0,
    "start_time": "2024-06-08T23:40:33.467Z"
   },
   {
    "duration": 101,
    "start_time": "2024-06-08T23:40:33.489Z"
   },
   {
    "duration": 117,
    "start_time": "2024-06-08T23:40:33.866Z"
   },
   {
    "duration": 42,
    "start_time": "2024-06-08T23:40:34.267Z"
   },
   {
    "duration": 95,
    "start_time": "2024-06-08T23:40:34.633Z"
   },
   {
    "duration": 4,
    "start_time": "2024-06-08T23:41:21.203Z"
   },
   {
    "duration": 19,
    "start_time": "2024-06-08T23:41:21.410Z"
   },
   {
    "duration": 13,
    "start_time": "2024-06-08T23:41:21.601Z"
   },
   {
    "duration": 9,
    "start_time": "2024-06-08T23:41:21.800Z"
   },
   {
    "duration": 6,
    "start_time": "2024-06-08T23:41:22.180Z"
   },
   {
    "duration": 12,
    "start_time": "2024-06-08T23:41:22.389Z"
   },
   {
    "duration": 6,
    "start_time": "2024-06-08T23:41:22.758Z"
   },
   {
    "duration": 9,
    "start_time": "2024-06-08T23:41:22.949Z"
   },
   {
    "duration": 10,
    "start_time": "2024-06-08T23:41:23.321Z"
   },
   {
    "duration": 14,
    "start_time": "2024-06-08T23:41:23.880Z"
   },
   {
    "duration": 17,
    "start_time": "2024-06-08T23:41:24.071Z"
   },
   {
    "duration": 95,
    "start_time": "2024-06-08T23:41:24.266Z"
   },
   {
    "duration": 8,
    "start_time": "2024-06-08T23:41:24.443Z"
   },
   {
    "duration": 75,
    "start_time": "2024-06-08T23:41:24.647Z"
   },
   {
    "duration": 279,
    "start_time": "2024-06-08T23:41:24.833Z"
   },
   {
    "duration": 299,
    "start_time": "2024-06-08T23:41:25.403Z"
   },
   {
    "duration": 375,
    "start_time": "2024-06-08T23:41:25.976Z"
   },
   {
    "duration": 302,
    "start_time": "2024-06-08T23:41:26.556Z"
   },
   {
    "duration": 381,
    "start_time": "2024-06-08T23:41:27.114Z"
   },
   {
    "duration": 93,
    "start_time": "2024-06-08T23:41:27.684Z"
   },
   {
    "duration": 92,
    "start_time": "2024-06-08T23:41:28.264Z"
   },
   {
    "duration": 80,
    "start_time": "2024-06-08T23:41:28.633Z"
   },
   {
    "duration": 229,
    "start_time": "2024-06-08T23:41:29.031Z"
   },
   {
    "duration": 6,
    "start_time": "2024-06-08T23:41:29.412Z"
   },
   {
    "duration": 87,
    "start_time": "2024-06-08T23:41:29.795Z"
   },
   {
    "duration": 42,
    "start_time": "2024-06-08T23:41:29.977Z"
   },
   {
    "duration": 96,
    "start_time": "2024-06-08T23:41:30.361Z"
   },
   {
    "duration": 96,
    "start_time": "2024-06-08T23:41:30.755Z"
   },
   {
    "duration": 50,
    "start_time": "2024-06-08T23:41:31.134Z"
   },
   {
    "duration": 103,
    "start_time": "2024-06-08T23:41:31.522Z"
   },
   {
    "duration": 5,
    "start_time": "2024-06-08T23:42:47.914Z"
   },
   {
    "duration": 17,
    "start_time": "2024-06-08T23:42:48.113Z"
   },
   {
    "duration": 8,
    "start_time": "2024-06-08T23:42:48.312Z"
   },
   {
    "duration": 6,
    "start_time": "2024-06-08T23:42:48.691Z"
   },
   {
    "duration": 10,
    "start_time": "2024-06-08T23:42:48.875Z"
   },
   {
    "duration": 7,
    "start_time": "2024-06-08T23:42:49.257Z"
   },
   {
    "duration": 11,
    "start_time": "2024-06-08T23:42:49.438Z"
   },
   {
    "duration": 13,
    "start_time": "2024-06-08T23:42:49.800Z"
   },
   {
    "duration": 14,
    "start_time": "2024-06-08T23:42:50.376Z"
   },
   {
    "duration": 15,
    "start_time": "2024-06-08T23:42:50.548Z"
   },
   {
    "duration": 20,
    "start_time": "2024-06-08T23:42:50.786Z"
   },
   {
    "duration": 7,
    "start_time": "2024-06-08T23:42:50.937Z"
   },
   {
    "duration": 496,
    "start_time": "2024-06-08T23:42:51.148Z"
   },
   {
    "duration": 292,
    "start_time": "2024-06-08T23:42:51.649Z"
   },
   {
    "duration": 287,
    "start_time": "2024-06-08T23:42:51.946Z"
   },
   {
    "duration": 391,
    "start_time": "2024-06-08T23:42:52.498Z"
   },
   {
    "duration": 262,
    "start_time": "2024-06-08T23:42:53.067Z"
   },
   {
    "duration": 361,
    "start_time": "2024-06-08T23:42:53.615Z"
   },
   {
    "duration": 233,
    "start_time": "2024-06-08T23:42:54.201Z"
   },
   {
    "duration": 7,
    "start_time": "2024-06-08T23:42:54.758Z"
   },
   {
    "duration": 250,
    "start_time": "2024-06-08T23:42:55.138Z"
   },
   {
    "duration": 202,
    "start_time": "2024-06-08T23:42:55.526Z"
   },
   {
    "duration": 7,
    "start_time": "2024-06-08T23:42:55.920Z"
   },
   {
    "duration": 251,
    "start_time": "2024-06-08T23:42:56.283Z"
   },
   {
    "duration": 41,
    "start_time": "2024-06-08T23:42:56.539Z"
   },
   {
    "duration": 18,
    "start_time": "2024-06-08T23:42:56.860Z"
   },
   {
    "duration": 16,
    "start_time": "2024-06-08T23:42:57.230Z"
   },
   {
    "duration": 51,
    "start_time": "2024-06-08T23:42:57.793Z"
   },
   {
    "duration": 21,
    "start_time": "2024-06-08T23:42:58.607Z"
   },
   {
    "duration": 76,
    "start_time": "2024-06-08T23:46:02.230Z"
   },
   {
    "duration": 13,
    "start_time": "2024-06-08T23:46:43.951Z"
   },
   {
    "duration": 12,
    "start_time": "2024-06-08T23:47:03.083Z"
   },
   {
    "duration": 16,
    "start_time": "2024-06-08T23:47:18.869Z"
   },
   {
    "duration": 25,
    "start_time": "2024-06-08T23:51:14.239Z"
   },
   {
    "duration": 20,
    "start_time": "2024-06-08T23:53:12.537Z"
   },
   {
    "duration": 20,
    "start_time": "2024-06-08T23:53:37.408Z"
   },
   {
    "duration": 21,
    "start_time": "2024-06-08T23:53:50.786Z"
   },
   {
    "duration": 14,
    "start_time": "2024-06-08T23:54:56.584Z"
   },
   {
    "duration": 16,
    "start_time": "2024-06-08T23:55:47.870Z"
   },
   {
    "duration": 16,
    "start_time": "2024-06-08T23:56:26.068Z"
   },
   {
    "duration": 10,
    "start_time": "2024-06-08T23:57:12.651Z"
   },
   {
    "duration": 14,
    "start_time": "2024-06-08T23:57:33.185Z"
   },
   {
    "duration": 15,
    "start_time": "2024-06-08T23:58:59.827Z"
   },
   {
    "duration": 4924,
    "start_time": "2024-06-09T17:54:08.092Z"
   },
   {
    "duration": 27,
    "start_time": "2024-06-09T17:54:14.095Z"
   },
   {
    "duration": 9,
    "start_time": "2024-06-09T17:54:15.136Z"
   },
   {
    "duration": 13,
    "start_time": "2024-06-09T17:54:16.597Z"
   },
   {
    "duration": 14,
    "start_time": "2024-06-09T17:54:18.224Z"
   },
   {
    "duration": 15,
    "start_time": "2024-06-09T17:54:22.068Z"
   },
   {
    "duration": 1251,
    "start_time": "2024-06-09T17:55:14.882Z"
   },
   {
    "duration": 16,
    "start_time": "2024-06-09T17:55:47.301Z"
   },
   {
    "duration": 15,
    "start_time": "2024-06-09T17:59:42.314Z"
   },
   {
    "duration": 19,
    "start_time": "2024-06-09T17:59:53.365Z"
   },
   {
    "duration": 23,
    "start_time": "2024-06-09T18:00:01.932Z"
   },
   {
    "duration": 33,
    "start_time": "2024-06-09T18:00:32.538Z"
   },
   {
    "duration": 27,
    "start_time": "2024-06-09T18:00:47.143Z"
   },
   {
    "duration": 34,
    "start_time": "2024-06-09T18:01:00.135Z"
   },
   {
    "duration": 36,
    "start_time": "2024-06-09T18:01:06.181Z"
   },
   {
    "duration": 45,
    "start_time": "2024-06-09T18:01:28.069Z"
   },
   {
    "duration": 34,
    "start_time": "2024-06-09T18:01:32.102Z"
   },
   {
    "duration": 19,
    "start_time": "2024-06-09T18:03:26.287Z"
   },
   {
    "duration": 6,
    "start_time": "2024-06-09T18:03:38.721Z"
   },
   {
    "duration": 11,
    "start_time": "2024-06-09T18:03:45.040Z"
   },
   {
    "duration": 19,
    "start_time": "2024-06-09T18:04:00.723Z"
   },
   {
    "duration": 10,
    "start_time": "2024-06-09T18:04:33.221Z"
   },
   {
    "duration": 26,
    "start_time": "2024-06-09T18:04:35.484Z"
   },
   {
    "duration": 10,
    "start_time": "2024-06-09T18:04:36.544Z"
   },
   {
    "duration": 4,
    "start_time": "2024-06-09T18:04:38.059Z"
   },
   {
    "duration": 19,
    "start_time": "2024-06-09T18:04:39.208Z"
   },
   {
    "duration": 8,
    "start_time": "2024-06-09T18:04:46.257Z"
   },
   {
    "duration": 16,
    "start_time": "2024-06-09T18:04:47.561Z"
   },
   {
    "duration": 5,
    "start_time": "2024-06-09T18:04:49.401Z"
   },
   {
    "duration": 34,
    "start_time": "2024-06-09T18:04:50.508Z"
   },
   {
    "duration": 11,
    "start_time": "2024-06-09T18:04:52.660Z"
   },
   {
    "duration": 17,
    "start_time": "2024-06-09T18:04:55.796Z"
   },
   {
    "duration": 15,
    "start_time": "2024-06-09T18:04:59.838Z"
   },
   {
    "duration": 12,
    "start_time": "2024-06-09T18:05:00.819Z"
   },
   {
    "duration": 11,
    "start_time": "2024-06-09T18:05:01.642Z"
   },
   {
    "duration": 414,
    "start_time": "2024-06-09T18:05:04.440Z"
   },
   {
    "duration": 310,
    "start_time": "2024-06-09T18:05:06.078Z"
   },
   {
    "duration": 289,
    "start_time": "2024-06-09T18:05:09.395Z"
   },
   {
    "duration": 474,
    "start_time": "2024-06-09T18:05:13.274Z"
   },
   {
    "duration": 275,
    "start_time": "2024-06-09T18:05:24.261Z"
   },
   {
    "duration": 419,
    "start_time": "2024-06-09T18:05:28.634Z"
   },
   {
    "duration": 232,
    "start_time": "2024-06-09T18:05:42.134Z"
   },
   {
    "duration": 9,
    "start_time": "2024-06-09T18:06:00.361Z"
   },
   {
    "duration": 25,
    "start_time": "2024-06-09T18:06:04.532Z"
   },
   {
    "duration": 190,
    "start_time": "2024-06-09T18:06:08.274Z"
   },
   {
    "duration": 3,
    "start_time": "2024-06-09T18:06:14.377Z"
   },
   {
    "duration": 17,
    "start_time": "2024-06-09T18:06:16.256Z"
   },
   {
    "duration": 5,
    "start_time": "2024-06-09T18:06:18.942Z"
   },
   {
    "duration": 9,
    "start_time": "2024-06-09T18:06:19.845Z"
   },
   {
    "duration": 6,
    "start_time": "2024-06-09T18:06:21.937Z"
   },
   {
    "duration": 12,
    "start_time": "2024-06-09T18:06:23.174Z"
   },
   {
    "duration": 11,
    "start_time": "2024-06-09T18:06:25.845Z"
   },
   {
    "duration": 18,
    "start_time": "2024-06-09T18:06:28.141Z"
   },
   {
    "duration": 17,
    "start_time": "2024-06-09T18:06:29.043Z"
   },
   {
    "duration": 14,
    "start_time": "2024-06-09T18:07:03.534Z"
   },
   {
    "duration": 4,
    "start_time": "2024-06-09T18:07:07.833Z"
   },
   {
    "duration": 16,
    "start_time": "2024-06-09T18:07:09.323Z"
   },
   {
    "duration": 17,
    "start_time": "2024-06-09T18:07:10.829Z"
   },
   {
    "duration": 7,
    "start_time": "2024-06-09T18:07:18.214Z"
   },
   {
    "duration": 4,
    "start_time": "2024-06-09T18:07:19.887Z"
   },
   {
    "duration": 18,
    "start_time": "2024-06-09T18:07:28.918Z"
   },
   {
    "duration": 8,
    "start_time": "2024-06-09T18:07:37.882Z"
   },
   {
    "duration": 9,
    "start_time": "2024-06-09T18:07:38.079Z"
   },
   {
    "duration": 6,
    "start_time": "2024-06-09T18:07:38.730Z"
   },
   {
    "duration": 9,
    "start_time": "2024-06-09T18:07:39.478Z"
   },
   {
    "duration": 9,
    "start_time": "2024-06-09T18:07:40.837Z"
   },
   {
    "duration": 14,
    "start_time": "2024-06-09T18:07:45.939Z"
   },
   {
    "duration": 16,
    "start_time": "2024-06-09T18:13:48.367Z"
   },
   {
    "duration": 14,
    "start_time": "2024-06-09T18:20:05.946Z"
   },
   {
    "duration": 13,
    "start_time": "2024-06-09T18:20:23.389Z"
   },
   {
    "duration": 5,
    "start_time": "2024-06-09T18:20:35.659Z"
   },
   {
    "duration": 19,
    "start_time": "2024-06-09T18:20:37.342Z"
   },
   {
    "duration": 16,
    "start_time": "2024-06-09T18:20:38.509Z"
   },
   {
    "duration": 9,
    "start_time": "2024-06-09T18:20:44.539Z"
   },
   {
    "duration": 3,
    "start_time": "2024-06-09T18:20:45.641Z"
   },
   {
    "duration": 18,
    "start_time": "2024-06-09T18:20:46.797Z"
   },
   {
    "duration": 17,
    "start_time": "2024-06-09T18:20:57.240Z"
   },
   {
    "duration": 3,
    "start_time": "2024-06-09T18:21:23.704Z"
   },
   {
    "duration": 16,
    "start_time": "2024-06-09T18:21:23.934Z"
   },
   {
    "duration": 21,
    "start_time": "2024-06-09T18:21:24.112Z"
   },
   {
    "duration": 6,
    "start_time": "2024-06-09T18:21:24.296Z"
   },
   {
    "duration": 3,
    "start_time": "2024-06-09T18:21:24.486Z"
   },
   {
    "duration": 18,
    "start_time": "2024-06-09T18:21:24.680Z"
   },
   {
    "duration": 5,
    "start_time": "2024-06-09T18:21:25.066Z"
   },
   {
    "duration": 9,
    "start_time": "2024-06-09T18:21:25.309Z"
   },
   {
    "duration": 5,
    "start_time": "2024-06-09T18:21:25.697Z"
   },
   {
    "duration": 9,
    "start_time": "2024-06-09T18:21:25.909Z"
   },
   {
    "duration": 12,
    "start_time": "2024-06-09T18:21:26.293Z"
   },
   {
    "duration": 13,
    "start_time": "2024-06-09T18:21:26.864Z"
   },
   {
    "duration": 13,
    "start_time": "2024-06-09T18:21:27.056Z"
   },
   {
    "duration": 18,
    "start_time": "2024-06-09T18:21:27.244Z"
   },
   {
    "duration": 6,
    "start_time": "2024-06-09T18:21:27.435Z"
   },
   {
    "duration": 417,
    "start_time": "2024-06-09T18:21:27.625Z"
   },
   {
    "duration": 295,
    "start_time": "2024-06-09T18:21:28.046Z"
   },
   {
    "duration": 268,
    "start_time": "2024-06-09T18:21:28.387Z"
   },
   {
    "duration": 342,
    "start_time": "2024-06-09T18:21:28.928Z"
   },
   {
    "duration": 289,
    "start_time": "2024-06-09T18:21:29.490Z"
   },
   {
    "duration": 345,
    "start_time": "2024-06-09T18:21:30.076Z"
   },
   {
    "duration": 208,
    "start_time": "2024-06-09T18:21:30.624Z"
   },
   {
    "duration": 6,
    "start_time": "2024-06-09T18:21:31.135Z"
   },
   {
    "duration": 246,
    "start_time": "2024-06-09T18:21:31.490Z"
   },
   {
    "duration": 197,
    "start_time": "2024-06-09T18:21:31.843Z"
   },
   {
    "duration": 5,
    "start_time": "2024-06-09T18:21:32.165Z"
   },
   {
    "duration": 210,
    "start_time": "2024-06-09T18:21:32.527Z"
   },
   {
    "duration": 38,
    "start_time": "2024-06-09T18:21:32.741Z"
   },
   {
    "duration": 14,
    "start_time": "2024-06-09T18:21:33.056Z"
   },
   {
    "duration": 12,
    "start_time": "2024-06-09T18:21:33.402Z"
   },
   {
    "duration": 39,
    "start_time": "2024-06-09T18:21:33.757Z"
   },
   {
    "duration": 19,
    "start_time": "2024-06-09T18:21:34.108Z"
   },
   {
    "duration": 4,
    "start_time": "2024-06-09T18:21:59.233Z"
   },
   {
    "duration": 19,
    "start_time": "2024-06-09T18:21:59.420Z"
   },
   {
    "duration": 14,
    "start_time": "2024-06-09T18:21:59.600Z"
   },
   {
    "duration": 9,
    "start_time": "2024-06-09T18:21:59.819Z"
   },
   {
    "duration": 3,
    "start_time": "2024-06-09T18:21:59.938Z"
   },
   {
    "duration": 19,
    "start_time": "2024-06-09T18:22:00.108Z"
   },
   {
    "duration": 7,
    "start_time": "2024-06-09T18:22:00.468Z"
   },
   {
    "duration": 8,
    "start_time": "2024-06-09T18:22:00.623Z"
   },
   {
    "duration": 6,
    "start_time": "2024-06-09T18:22:00.963Z"
   },
   {
    "duration": 9,
    "start_time": "2024-06-09T18:22:01.126Z"
   },
   {
    "duration": 9,
    "start_time": "2024-06-09T18:22:01.469Z"
   },
   {
    "duration": 19,
    "start_time": "2024-06-09T18:22:01.981Z"
   },
   {
    "duration": 13,
    "start_time": "2024-06-09T18:22:02.177Z"
   },
   {
    "duration": 18,
    "start_time": "2024-06-09T18:22:02.333Z"
   },
   {
    "duration": 5,
    "start_time": "2024-06-09T18:22:02.506Z"
   },
   {
    "duration": 444,
    "start_time": "2024-06-09T18:22:02.678Z"
   },
   {
    "duration": 305,
    "start_time": "2024-06-09T18:22:03.127Z"
   },
   {
    "duration": 280,
    "start_time": "2024-06-09T18:22:03.435Z"
   },
   {
    "duration": 320,
    "start_time": "2024-06-09T18:22:03.863Z"
   },
   {
    "duration": 252,
    "start_time": "2024-06-09T18:22:04.380Z"
   },
   {
    "duration": 349,
    "start_time": "2024-06-09T18:22:04.896Z"
   },
   {
    "duration": 195,
    "start_time": "2024-06-09T18:22:05.420Z"
   },
   {
    "duration": 6,
    "start_time": "2024-06-09T18:22:05.926Z"
   },
   {
    "duration": 216,
    "start_time": "2024-06-09T18:22:06.277Z"
   },
   {
    "duration": 203,
    "start_time": "2024-06-09T18:22:06.620Z"
   },
   {
    "duration": 5,
    "start_time": "2024-06-09T18:22:06.971Z"
   },
   {
    "duration": 210,
    "start_time": "2024-06-09T18:22:07.331Z"
   },
   {
    "duration": 39,
    "start_time": "2024-06-09T18:22:07.544Z"
   },
   {
    "duration": 14,
    "start_time": "2024-06-09T18:22:07.861Z"
   },
   {
    "duration": 12,
    "start_time": "2024-06-09T18:22:08.226Z"
   },
   {
    "duration": 39,
    "start_time": "2024-06-09T18:22:08.577Z"
   },
   {
    "duration": 18,
    "start_time": "2024-06-09T18:22:08.928Z"
   },
   {
    "duration": 13,
    "start_time": "2024-06-09T18:40:00.837Z"
   },
   {
    "duration": 42,
    "start_time": "2024-06-09T18:45:21.600Z"
   },
   {
    "duration": 14,
    "start_time": "2024-06-09T18:45:24.760Z"
   },
   {
    "duration": 12,
    "start_time": "2024-06-09T18:45:34.403Z"
   },
   {
    "duration": 40,
    "start_time": "2024-06-09T18:45:48.257Z"
   },
   {
    "duration": 19,
    "start_time": "2024-06-09T18:45:52.498Z"
   },
   {
    "duration": 12,
    "start_time": "2024-06-09T18:46:22.417Z"
   },
   {
    "duration": 39,
    "start_time": "2024-06-09T18:46:24.946Z"
   },
   {
    "duration": 18,
    "start_time": "2024-06-09T18:46:27.256Z"
   },
   {
    "duration": 5,
    "start_time": "2024-06-09T18:57:28.557Z"
   },
   {
    "duration": 18,
    "start_time": "2024-06-09T18:57:28.756Z"
   },
   {
    "duration": 17,
    "start_time": "2024-06-09T18:57:28.952Z"
   },
   {
    "duration": 9,
    "start_time": "2024-06-09T18:57:29.141Z"
   },
   {
    "duration": 18,
    "start_time": "2024-06-09T18:57:29.336Z"
   },
   {
    "duration": 6,
    "start_time": "2024-06-09T18:57:29.684Z"
   },
   {
    "duration": 9,
    "start_time": "2024-06-09T18:57:29.864Z"
   },
   {
    "duration": 5,
    "start_time": "2024-06-09T18:57:30.216Z"
   },
   {
    "duration": 9,
    "start_time": "2024-06-09T18:57:30.414Z"
   },
   {
    "duration": 10,
    "start_time": "2024-06-09T18:57:30.781Z"
   },
   {
    "duration": 20,
    "start_time": "2024-06-09T18:57:31.346Z"
   },
   {
    "duration": 17,
    "start_time": "2024-06-09T18:57:31.534Z"
   },
   {
    "duration": 18,
    "start_time": "2024-06-09T18:57:31.706Z"
   },
   {
    "duration": 7,
    "start_time": "2024-06-09T18:57:31.909Z"
   },
   {
    "duration": 405,
    "start_time": "2024-06-09T18:57:32.075Z"
   },
   {
    "duration": 288,
    "start_time": "2024-06-09T18:57:32.484Z"
   },
   {
    "duration": 374,
    "start_time": "2024-06-09T18:57:32.844Z"
   },
   {
    "duration": 366,
    "start_time": "2024-06-09T18:57:33.407Z"
   },
   {
    "duration": 260,
    "start_time": "2024-06-09T18:57:33.969Z"
   },
   {
    "duration": 307,
    "start_time": "2024-06-09T18:57:34.563Z"
   },
   {
    "duration": 197,
    "start_time": "2024-06-09T18:57:35.140Z"
   },
   {
    "duration": 5,
    "start_time": "2024-06-09T18:57:35.724Z"
   },
   {
    "duration": 233,
    "start_time": "2024-06-09T18:57:36.104Z"
   },
   {
    "duration": 212,
    "start_time": "2024-06-09T18:57:36.495Z"
   },
   {
    "duration": 5,
    "start_time": "2024-06-09T18:57:36.865Z"
   },
   {
    "duration": 204,
    "start_time": "2024-06-09T18:57:37.242Z"
   },
   {
    "duration": 37,
    "start_time": "2024-06-09T18:57:37.452Z"
   },
   {
    "duration": 14,
    "start_time": "2024-06-09T18:57:37.821Z"
   },
   {
    "duration": 12,
    "start_time": "2024-06-09T18:57:38.225Z"
   },
   {
    "duration": 40,
    "start_time": "2024-06-09T18:57:38.596Z"
   },
   {
    "duration": 19,
    "start_time": "2024-06-09T18:57:39.024Z"
   }
  ],
  "kernelspec": {
   "display_name": "Python 3 (ipykernel)",
   "language": "python",
   "name": "python3"
  },
  "language_info": {
   "codemirror_mode": {
    "name": "ipython",
    "version": 3
   },
   "file_extension": ".py",
   "mimetype": "text/x-python",
   "name": "python",
   "nbconvert_exporter": "python",
   "pygments_lexer": "ipython3",
   "version": "3.9.19"
  },
  "toc": {
   "base_numbering": 1,
   "nav_menu": {},
   "number_sections": true,
   "sideBar": true,
   "skip_h1_title": true,
   "title_cell": "Table of Contents",
   "title_sidebar": "Contents",
   "toc_cell": false,
   "toc_position": {},
   "toc_section_display": true,
   "toc_window_display": false
  }
 },
 "nbformat": 4,
 "nbformat_minor": 2
}
